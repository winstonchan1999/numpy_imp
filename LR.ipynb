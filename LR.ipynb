{
  "nbformat": 4,
  "nbformat_minor": 0,
  "metadata": {
    "colab": {
      "provenance": []
    },
    "kernelspec": {
      "name": "python3",
      "display_name": "Python 3"
    },
    "language_info": {
      "name": "python"
    }
  },
  "cells": [
    {
      "cell_type": "markdown",
      "source": [
        "How to run: <br> Simply run all the code blocks sequentially."
      ],
      "metadata": {
        "id": "VISzhOn-9CXc"
      }
    },
    {
      "cell_type": "code",
      "execution_count": null,
      "metadata": {
        "colab": {
          "base_uri": "https://localhost:8080/"
        },
        "id": "Z60l1JMtV0e6",
        "outputId": "797cb580-d7a7-4793-babf-c8066f061926"
      },
      "outputs": [
        {
          "output_type": "stream",
          "name": "stdout",
          "text": [
            "Drive already mounted at /content/drive; to attempt to forcibly remount, call drive.mount(\"/content/drive\", force_remount=True).\n"
          ]
        }
      ],
      "source": [
        "#linking Google drive\n",
        "\n",
        "from google.colab import drive\n",
        "drive.mount('/content/drive')"
      ]
    },
    {
      "cell_type": "code",
      "source": [
        "#install python_mnist\n",
        "\n",
        "!pip install python_mnist"
      ],
      "metadata": {
        "colab": {
          "base_uri": "https://localhost:8080/"
        },
        "id": "C3xhShMZW3_j",
        "outputId": "3d28f5fd-e73e-4f18-e328-e19c80f45c69"
      },
      "execution_count": null,
      "outputs": [
        {
          "output_type": "stream",
          "name": "stdout",
          "text": [
            "Looking in indexes: https://pypi.org/simple, https://us-python.pkg.dev/colab-wheels/public/simple/\n",
            "Requirement already satisfied: python_mnist in /usr/local/lib/python3.9/dist-packages (0.7)\n"
          ]
        }
      ]
    },
    {
      "cell_type": "code",
      "source": [
        "#load MINST images\n",
        "\n",
        "from mnist import MNIST\n",
        "import numpy as np\n",
        "\n",
        "mnist_loader = MNIST('/content/drive/My Drive/Colab Notebooks/datasets/MNIST')\n",
        "train_data, train_label = mnist_loader.load_training()\n",
        "test_data, test_label = mnist_loader.load_testing()\n",
        "train_data = np.array(train_data, dtype='float')/255 # norm to [0,1]\n",
        "train_label = np.array(train_label, dtype='short')\n",
        "test_data = np.array(test_data, dtype='float')/255 # norm to [0,1]\n",
        "test_label = np.array(test_label, dtype='short')\n",
        "\n",
        "#add small random noise to avoid matrix singularity\n",
        "train_data += np.random.normal(0,0.0001,train_data.shape) \n",
        "\n",
        "print(train_data.shape, train_label.shape, test_data.shape, test_label.shape)"
      ],
      "metadata": {
        "colab": {
          "base_uri": "https://localhost:8080/"
        },
        "id": "jxPo9QHvXB-v",
        "outputId": "eb84d10b-c92d-4894-c25e-deab7aba2a56"
      },
      "execution_count": null,
      "outputs": [
        {
          "output_type": "stream",
          "name": "stdout",
          "text": [
            "(60000, 784) (60000,) (10000, 784) (10000,)\n"
          ]
        }
      ]
    },
    {
      "cell_type": "code",
      "source": [
        "# prepare digits '7' and '9' for logisic regression\n",
        "\n",
        "digit_train_index = np.logical_or(train_label == 7, train_label == 9)\n",
        "X_train = train_data[digit_train_index]\n",
        "y_train = train_label[digit_train_index]\n",
        "digit_test_index = np.logical_or(test_label == 7, test_label == 9)\n",
        "X_test = test_data[digit_test_index]\n",
        "y_test = test_label[digit_test_index]\n",
        "\n",
        "# add a constant column of '1' to accomodate the bias (see the margin note on page 107)\n",
        "X_train = np.hstack((X_train, np.ones((X_train.shape[0], 1), dtype=X_train.dtype)))\n",
        "X_test = np.hstack((X_test, np.ones((X_test.shape[0], 1), dtype=X_test.dtype)))\n",
        "\n",
        "# converge labels: '7' => -1, '9' => +1\n",
        "CUTOFF = 8 # any number between '7' and '9'\n",
        "y_train = np.sign(y_train-CUTOFF)\n",
        "y_test = np.sign(y_test-CUTOFF)"
      ],
      "metadata": {
        "id": "Gi-rambMXIx6"
      },
      "execution_count": null,
      "outputs": []
    },
    {
      "cell_type": "code",
      "source": [
        "# solve MCE using mini-batch gradient descent \n",
        "import numpy as np\n",
        "\n",
        "class Optimizer():\n",
        "  def __init__(self, lr, annealing_rate, batch_size, max_epochs, training_mode):\n",
        "    self.lr = lr\n",
        "    self.annealing_rate = annealing_rate\n",
        "    self.batch_size = batch_size\n",
        "    self.max_epochs = max_epochs\n",
        "    self.training_mode = training_mode\n",
        "\n",
        "# sigmoid for numpy arrays\n",
        "def sigmoid(x):\n",
        "  return 1/(1 + np.exp(-x))\n",
        "\n",
        "# X[N,d]: training features; y[N]: training targets; \n",
        "# X2[N,d]: test features; y2[N]: test targets;  \n",
        "# op: hyper-parameters for optimzer \n",
        "#\n",
        "# Note: X2 and y2 are not used in training\n",
        "#       but only for computting the learning curve B\n",
        "#\n",
        "def MCE_gd(X, y, X2, y2, op):\n",
        "  n = X.shape[0]            # number of samples\n",
        "  w = np.zeros(X.shape[1])  # initialization\n",
        "\n",
        "  lr = op.lr\n",
        "  mode = op.training_mode\n",
        "  errorsA = np.zeros(op.max_epochs)\n",
        "  errorsB = np.zeros(op.max_epochs)\n",
        "  errorsC = np.zeros(op.max_epochs)\n",
        "\n",
        "  for epoch in range(op.max_epochs):\n",
        "    indices = np.random.permutation(n)  #randomly shuffle data indices\n",
        "    for batch_start in range(0, n, op.batch_size):\n",
        "      X_batch = X[indices[batch_start:batch_start + op.batch_size]]\n",
        "      y_batch = y[indices[batch_start:batch_start + op.batch_size]]\n",
        "\n",
        "      ###############################################################################################################################\n",
        "      #################################################### MODIFIED CODE HERE #######################################################\n",
        "      ###############################################################################################################################\n",
        "\n",
        "      # vectorization to compute gradients for a whole mini-batch (calculated from project report p.3)\n",
        "      # w_grad = X_batch.T @ (y_batch * sigmoid(y_batch * (X_batch @ w)) * sigmoid(y_batch * (X_batch @ w)) - y_batch * sigmoid(y_batch * (X_batch @ w))) / X_batch.shape[0]\n",
        "      if mode=='mce':\n",
        "        w_grad = X_batch.T @ (-y_batch * sigmoid(-y_batch * (X_batch @ w)) * sigmoid(y_batch * (X_batch @ w))) / X_batch.shape[0]\n",
        "      elif mode=='reg':\n",
        "        w_grad = X_batch.T @ (y_batch * sigmoid(y_batch * (X_batch @ w)) - y_batch) / X_batch.shape[0] \n",
        "      w -= lr * w_grad \n",
        "\n",
        "    # for learning curve C\n",
        "    errorsC[epoch] = - np.mean(np.log( sigmoid(y * (X @ w))) )\n",
        "\n",
        "    # for learning curve A\n",
        "    predict = np.sign(X @ w)\n",
        "    errorsA[epoch] = np.count_nonzero(np.equal(predict,y))/y.size \n",
        "\n",
        "    # for learning curve B\n",
        "    predict2 = np.sign(X2 @ w)\n",
        "    errorsB[epoch] = np.count_nonzero(np.equal(predict2,y2))/y2.size\n",
        "\n",
        "    lr *= op.annealing_rate\n",
        "\n",
        "  print(f'epoch={epoch}: the MCE loss is C={errorsC[epoch]:.3f} (A={errorsA[epoch]:.3f},B={errorsB[epoch]:.3f})')\n",
        "  return w, errorsA, errorsB, errorsC"
      ],
      "metadata": {
        "id": "j0xgLP1ggfwj"
      },
      "execution_count": null,
      "outputs": []
    },
    {
      "cell_type": "code",
      "source": [
        "import matplotlib.pyplot as plt\n",
        "\n",
        "op = Optimizer(lr=0.025, annealing_rate=0.99, batch_size=50, max_epochs=100, training_mode='mce')\n",
        "\n",
        "w, A, B, C = MCE_gd(X_train, y_train, X_test, y_test, op)\n",
        "\n",
        "fig, ax = plt.subplots(2)\n",
        "fig.suptitle('MCE learning curves (A, B, C)')\n",
        "ax[0].plot(C, 'b')\n",
        "ax[0].legend(['curve C', 'closed-form solution'])\n",
        "\n",
        "ax[1].plot(A, 'b', B, 'r')\n",
        "ax[1].legend(['curve A', 'curve B'])"
      ],
      "metadata": {
        "colab": {
          "base_uri": "https://localhost:8080/",
          "height": 329
        },
        "id": "wr50IZNLiv80",
        "outputId": "0e3bb087-58c3-473e-afa5-1347ba671cd6"
      },
      "execution_count": null,
      "outputs": [
        {
          "output_type": "stream",
          "name": "stdout",
          "text": [
            "epoch=99: the MCE loss is C=0.165 (A=0.956,B=0.961)\n"
          ]
        },
        {
          "output_type": "execute_result",
          "data": {
            "text/plain": [
              "<matplotlib.legend.Legend at 0x7f3145eb2220>"
            ]
          },
          "metadata": {},
          "execution_count": 58
        },
        {
          "output_type": "display_data",
          "data": {
            "text/plain": [
              "<Figure size 432x288 with 2 Axes>"
            ],
            "image/png": "[encoded data removed]"
          },
          "metadata": {
            "needs_background": "light"
          }
        }
      ]
    },
    {
      "cell_type": "code",
      "source": [
        "# compare results with that of logistic regression\n",
        "\n",
        "op = Optimizer(lr=0.05, annealing_rate=0.99, batch_size=50, max_epochs=100, training_mode='reg')\n",
        "\n",
        "w, A, B, C = MCE_gd(X_train, y_train, X_test, y_test, op)\n",
        "\n",
        "fig, ax = plt.subplots(2)\n",
        "fig.suptitle('Logistic regression learning curves (A, B, C)')\n",
        "ax[0].plot(C, 'b')\n",
        "ax[0].legend(['curve C', 'closed-form solution'])\n",
        "\n",
        "ax[1].plot(A, 'b', B, 'r')\n",
        "ax[1].legend(['curve A', 'curve B'])"
      ],
      "metadata": {
        "colab": {
          "base_uri": "https://localhost:8080/",
          "height": 329
        },
        "id": "dlmOcgDfi2xl",
        "outputId": "48125cb5-5cdf-44cf-a78e-1330651a1718"
      },
      "execution_count": null,
      "outputs": [
        {
          "output_type": "stream",
          "name": "stdout",
          "text": [
            "epoch=99: the MCE loss is C=0.107 (A=0.964,B=0.964)\n"
          ]
        },
        {
          "output_type": "execute_result",
          "data": {
            "text/plain": [
              "<matplotlib.legend.Legend at 0x7f3145dfe370>"
            ]
          },
          "metadata": {},
          "execution_count": 59
        },
        {
          "output_type": "display_data",
          "data": {
            "text/plain": [
              "<Figure size 432x288 with 2 Axes>"
            ],
            "image/png": "[encoded data removed]"
          },
          "metadata": {
            "needs_background": "light"
          }
        }
      ]
    }
  ]
}
