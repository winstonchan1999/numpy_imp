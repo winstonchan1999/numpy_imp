{
  "cells": [
    {
      "cell_type": "markdown",
      "source": [
        "How to run: <br> Simply run all the code blocks sequentially."
      ],
      "metadata": {
        "id": "B4OTYKIaPfwX"
      }
    },
    {
      "cell_type": "markdown",
      "metadata": {
        "id": "ncrGSJu_5CeM"
      },
      "source": [
        "### **Misc**"
      ]
    },
    {
      "cell_type": "code",
      "execution_count": null,
      "metadata": {
        "colab": {
          "base_uri": "https://localhost:8080/"
        },
        "id": "ztukOFepF9W7",
        "outputId": "f24e638d-1b00-46fd-c556-b02f79e214f5"
      },
      "outputs": [
        {
          "output_type": "stream",
          "name": "stdout",
          "text": [
            "Drive already mounted at /content/drive; to attempt to forcibly remount, call drive.mount(\"/content/drive\", force_remount=True).\n"
          ]
        }
      ],
      "source": [
        "#link my Google drive\n",
        "\n",
        "from google.colab import drive\n",
        "drive.mount('/content/drive')"
      ]
    },
    {
      "cell_type": "code",
      "execution_count": null,
      "metadata": {
        "colab": {
          "base_uri": "https://localhost:8080/"
        },
        "id": "fsAqfKEjzHJ6",
        "outputId": "67d64289-4453-48ac-a4b7-b787cacfc19b"
      },
      "outputs": [
        {
          "output_type": "stream",
          "name": "stdout",
          "text": [
            "Looking in indexes: https://pypi.org/simple, https://us-python.pkg.dev/colab-wheels/public/simple/\n",
            "Requirement already satisfied: python_mnist in /usr/local/lib/python3.9/dist-packages (0.7)\n"
          ]
        }
      ],
      "source": [
        "# install python_mnist\n",
        "\n",
        "!pip install python_mnist"
      ]
    },
    {
      "cell_type": "code",
      "execution_count": null,
      "metadata": {
        "colab": {
          "base_uri": "https://localhost:8080/"
        },
        "id": "HR8Bq2g9zIFP",
        "outputId": "59a80fbb-72d9-4805-a235-b04a61f801de"
      },
      "outputs": [
        {
          "output_type": "stream",
          "name": "stdout",
          "text": [
            "(60000, 784) (60000,) (10000, 784) (10000,) (60000, 10)\n"
          ]
        }
      ],
      "source": [
        "#load MINST images\n",
        "\n",
        "from mnist import MNIST\n",
        "import jax.numpy as jnp\n",
        "import numpy as np\n",
        "\n",
        "mnist_loader = MNIST('/content/drive/My Drive/Colab Notebooks/datasets/MNIST')\n",
        "train_data, train_label = mnist_loader.load_training()\n",
        "test_data, test_label = mnist_loader.load_testing()\n",
        "X_train = np.array(train_data, dtype='float')/255.0 # norm to [0,1]\n",
        "y_train = np.array(train_label, dtype='short')\n",
        "X_test = np.array(test_data, dtype='float')/255.0 # norm to [0,1]\n",
        "y_test = np.array(test_label, dtype='short')\n",
        "\n",
        "# convert MNIST training labels into 10-D one-hot vectors \n",
        "Y_train = np.zeros((y_train.size, y_train.max()+1))\n",
        "Y_train[np.arange(y_train.size),y_train] = 1\n",
        "\n",
        "print(X_train.shape, y_train.shape, X_test.shape, y_test.shape, Y_train.shape)"
      ]
    },
    {
      "cell_type": "markdown",
      "metadata": {
        "id": "COLrdMY45MgS"
      },
      "source": [
        "### **SVM model**"
      ]
    },
    {
      "cell_type": "code",
      "execution_count": null,
      "metadata": {
        "id": "3zC2Ajv85JRo"
      },
      "outputs": [],
      "source": [
        "class mySVM():\n",
        "  def __init__(self, kernel='linear', optimizer='pgd', debug=0, threshold=0.001, \\\n",
        "               lr=1.0, max_epochs=20, batch_size=2, C=1, order=3, gamma=1.0, I=0, J=1):\n",
        "    self.kernel = kernel           # kernel type\n",
        "    self.optimizer = optimizer     # which optimizer is used to solve quadratic programming\n",
        "    self.lr = lr                   # max learning rate in PGD\n",
        "    self.max_epochs = max_epochs   # max epochs in PGD\n",
        "    self.batch_size = batch_size   # size of each subset in PGD\n",
        "    self.debug = debug             # whether print debugging info\n",
        "    self.threshold = threshold     # threshold to filter out support vectors \n",
        "    self.label = {-1:I, 1:J}       # holding the labels\n",
        "\n",
        "    self.C = C                     # C for the soft-margin term\n",
        "    self.order = order             # power order for polynomial kernel\n",
        "    self.gamma = gamma             # gamma for Gaussian RBF kernel\n",
        "\n",
        "  # Kernel Function\n",
        "  # X[N,d]: training samples;  Y[M,d]: other training samples\n",
        "  # return Q[N,N]: linear kernel matrix between X and Y\n",
        "  def Kernel(self, X, Y):\n",
        "    if (self.kernel == 'linear'):\n",
        "      K = X @ Y.T\n",
        "    elif (self.kernel == 'poly'):\n",
        "      K = np.power(X @ Y.T +1, self.order)\n",
        "    elif (self.kernel == 'rbf'): \n",
        "      d1 = np.sum(X*X, axis=1) \n",
        "      d2 = np.sum(Y*Y, axis=1)\n",
        "      K = np.outer(d1, np.ones(Y.shape[0])) + np.outer(np.ones(X.shape[0]), d2) \\\n",
        "          - 2 * X @ Y.T\n",
        "      K = np.exp(-self.gamma * K) \n",
        "      \n",
        "    return K\n",
        "\n",
        "  # construct matrix Q from any kernel function for dual SVM optimization \n",
        "  def QuadraticMatrix(self, X, y):\n",
        "    Q = np.outer(y, y) * self.Kernel(X, X) \n",
        "    return Q\n",
        "\n",
        "  # clipping function\n",
        "  def clip(self, a, L, H):\n",
        "    a_new = max(L, a)\n",
        "    a_new = min(H, a_new)\n",
        "    return a_new\n",
        "\n",
        "  # use SMO to update 2 alphas in each iteration\n",
        "  def SMO(self, Q, X, y):\n",
        "    N = Q.shape[0]   # num of training samples\n",
        "    alpha = np.zeros(N)\n",
        "    epoch = 0\n",
        "    while epoch < self.max_epochs:\n",
        "      i = 0\n",
        "      while i < N:\n",
        "        if i == N - 1:\n",
        "          j = 0\n",
        "        else:\n",
        "          j = i + 1\n",
        "\n",
        "        #update alpha i and j (based on my attempt of assignment 2 question 3)\n",
        "        i_new = (1 - y[i]*y[j] - 2*Q[i][j]*(y[i]*y[j]*alpha[i] + alpha[j]) + 2*Q[j][j]*(alpha[i] + y[i]*y[j]*alpha[j]))/(2*(Q[i][i] - 2*Q[i][j]*y[i]*y[j] + Q[j][j]))\n",
        "        if y[i] != y[j]:\n",
        "          i_new = self.clip(i_new, max(0, alpha[j] - alpha[i]), min(self.C, self.C + alpha[j] - alpha[i]))\n",
        "        else:\n",
        "          i_new = self.clip(i_new, max(0, alpha[j] + alpha[i] - self.C), min(self.C, alpha[j] + alpha[i]))\n",
        "\n",
        "        j_new = y[i]*y[j]*alpha[i] + alpha[j] - y[i]*y[j]*i_new\n",
        "\n",
        "        alpha[i] = i_new\n",
        "        alpha[j] = j_new\n",
        "\n",
        "        i += 1\n",
        "      epoch += 1\n",
        "    return alpha\n",
        "  \n",
        "  # use projected gradient descent to solve quadratic program \n",
        "  # refer to Algorithm 6.5 on page 127\n",
        "  # Q[N,N]: quadratic matrix;  y[N]: training labels (+1 or -1)\n",
        "  def PGD(self, Q, y):\n",
        "    N = Q.shape[0]   # num of training samples\n",
        "    alpha = np.zeros(N)\n",
        "    prev_L = 0.0\n",
        "\n",
        "    for epoch in range(self.max_epochs):\n",
        "      indices = np.random.permutation(N)  #randomly shuffle data indices\n",
        "      for batch_start in range(0, N, self.batch_size):\n",
        "        idx = indices[batch_start:batch_start + self.batch_size] # indices of the current subset\n",
        "        alpha_s = alpha[idx]\n",
        "        y_s = y[idx]\n",
        "\n",
        "        grad_s = Q[idx,:] @ alpha - np.ones(idx.shape[0])\n",
        "        proj_grad_s = grad_s - np.dot(y_s,grad_s)/np.dot(y_s, y_s)*y_s\n",
        "\n",
        "        bound = np.zeros(idx.shape[0])\n",
        "        bound[proj_grad_s < 0] = self.C \n",
        "\n",
        "        eta = np.min(np.abs(alpha_s-bound)/(np.abs(proj_grad_s)+0.001))\n",
        "\n",
        "        alpha[idx] -= min(eta, self.lr) * proj_grad_s\n",
        "\n",
        "      L = 0.5 * alpha.T @ Q @ alpha - np.sum(alpha) # objective function \n",
        "      if (L > prev_L): \n",
        "        if (self.debug>0):\n",
        "          print(f'Early stopping at epoch={epoch}! ({L})')\n",
        "        break\n",
        "      \n",
        "      if (self.debug>1):\n",
        "        print(f'[PGD optimizer] epoch = {epoch}: L = {L:.5f}  (# of support vectors = {(alpha>self.threshold).sum()})')\n",
        "        print(f'                 alpha: max={np.max(alpha)} min={np.min(alpha)} orthogonal constraint={np.dot(alpha,y):.2f}')\n",
        "\n",
        "      prev_L = L\n",
        "\n",
        "    return alpha\n",
        "\n",
        "  # train SVM from training samples\n",
        "  # X[N,d]: input features;  y[N]: output labels (+1 or -1)\n",
        "  def fit(self, X, y):\n",
        "    if(self.kernel != 'linear' and self.kernel != 'poly' and self.kernel != 'rbf'):\n",
        "      print(\"Error: only linear/poly/rbf kernel is supported!\")\n",
        "      return\n",
        "\n",
        "    Q = self.QuadraticMatrix(X, y)\n",
        "\n",
        "    if self.optimizer == \"smo\":\n",
        "      alpha = self.SMO(Q, X, y)\n",
        "    elif self.optimizer == \"pgd\":\n",
        "      alpha = self.PGD(Q, y)\n",
        "\n",
        "    #save support vectors (pruning all data with alpha==0)\n",
        "    self.X_SVs = X[alpha>self.threshold]\n",
        "    self.y_SVs = y[alpha>self.threshold]\n",
        "    self.alpha_SVs = alpha[alpha>self.threshold]\n",
        "\n",
        "    if(self.kernel == 'linear'):\n",
        "      self.w = (self.y_SVs * self.alpha_SVs) @ self.X_SVs\n",
        "\n",
        "    # estimate b\n",
        "    idx = np.nonzero(np.logical_and(self.alpha_SVs>self.threshold,self.alpha_SVs<self.C-self.threshold))\n",
        "    if(len(idx) == 0):\n",
        "      idx = np.nonzero(self.alpha_SVs>self.threshold)\n",
        "    # refer to the formula on page 125 (above Figure 6.11) \n",
        "    b = self.y_SVs[idx] - (self.y_SVs * self.alpha_SVs) @ self.Kernel(self.X_SVs, self.X_SVs[idx])\n",
        "    self.b = np.median(b)\n",
        "    \n",
        "    return \n",
        "\n",
        "  # use SVM from prediction (returns a vector of +1 and -1)\n",
        "  # X[N,d]: input features\n",
        "  def predict(self, X):\n",
        "    if(self.kernel != 'linear' and self.kernel != 'poly' and self.kernel != 'rbf'):\n",
        "      print(\"Error: only linear/poly/rbf kernel is supported!\")\n",
        "      return\n",
        "\n",
        "    if(self.kernel == 'linear'):\n",
        "      y = X @ self.w + self.b \n",
        "    else:\n",
        "      y = (self.y_SVs * self.alpha_SVs) @ self.Kernel(self.X_SVs, X) + self.b \n",
        "\n",
        "    return np.sign(y)\n",
        "\n",
        "  # prediction function I added (returns a vector of predicted labels)\n",
        "  # used for calculating testing accuracy\n",
        "  def predict_label(self, X):\n",
        "    if(self.kernel != 'linear' and self.kernel != 'poly' and self.kernel != 'rbf'):\n",
        "      print(\"Error: only linear/poly/rbf kernel is supported!\")\n",
        "      return\n",
        "\n",
        "    if(self.kernel == 'linear'):\n",
        "      y = X @ self.w + self.b \n",
        "    else:\n",
        "      y = (self.y_SVs * self.alpha_SVs) @ self.Kernel(self.X_SVs, X) + self.b \n",
        "\n",
        "    return np.vectorize(self.label.get)(np.sign(y))\n"
      ]
    },
    {
      "cell_type": "markdown",
      "metadata": {
        "id": "2jV_Ldz04Mud"
      },
      "source": [
        "### **Autoencoder model**"
      ]
    },
    {
      "cell_type": "code",
      "execution_count": null,
      "metadata": {
        "id": "WJp5p3P2zLRU"
      },
      "outputs": [],
      "source": [
        "# use numpy to implement fully-connected neural networks with mini-batch SGD \n",
        "import numpy as np\n",
        "\n",
        "# ReLU activation function\n",
        "def relu(x):\n",
        "  return np.maximum(x, 0) \n",
        "\n",
        "      ###############################################################################################################################\n",
        "      ################################################### MODIFIED CODE BELOW #######################################################\n",
        "      ###############################################################################################################################\n",
        "\n",
        "# Sigmoid activation function for reconstruction of x\n",
        "def sigmoid(X):\n",
        "  return 1 / (1 + np.exp(-X))\n",
        "\n",
        "class myMLP1():\n",
        "  def __init__(self, optimizer='sgd', debug=0, struct=[], activation='relu',\\\n",
        "               loss='ce', lr=1.0, max_epochs=10, batch_size=10, random_state=1,\\\n",
        "               init_range=1.0, annealing=1.0):\n",
        "    self.optimizer = optimizer     # which optimizer is used to learn\n",
        "    self.lr = lr                   # initial learning rate in SGD\n",
        "    self.annealing = annealing     # annealing rate in SGD\n",
        "    self.max_epochs = max_epochs   # max epochs in optimization \n",
        "    self.batch_size = batch_size   # mini-batch size in SGD\n",
        "    self.debug = debug             # whether print debugging info\n",
        "    self.activation=activation     # activation function \n",
        "    self.loss = loss               # the loss used for training objective \n",
        "    self.random_state=random_state # random state\n",
        "    self.init_range=init_range     # range for initializing weights \n",
        "\n",
        "    self.struct = struct           # network structure: e.g. [100], [500, 200], \n",
        "                                   #                         [100,100,100]\n",
        " \n",
        "  # initialize internal struct/variables for input/output \n",
        "  # X[N,d]: input features; Y[N,K]: 1-of-K one-hot vectors for output targets \n",
        "  def initialization(self, X, Y):\n",
        "    np.random.seed(self.random_state)\n",
        "\n",
        "    input = X.shape[1]                # input dimension \n",
        "    self.layers = len(self.struct)    # number of hidden layers \n",
        "    self.W = [0]*(self.layers+1)      # list for all weight matrices\n",
        "    self.b = [0]*(self.layers+1)      # list for all bias vectors \n",
        "    self.W_grad = [0]*(self.layers+1) # list for weight gradients\n",
        "    self.b_grad = [0]*(self.layers+1) # list for bias gradients \n",
        "\n",
        "    # create weight matrices for all hidden layers \n",
        "    for l in range(self.layers):  \n",
        "      output = self.struct[l]\n",
        "      self.W[l] = 4.90*(np.random.rand(input, output)-0.5)*self.init_range/np.sqrt(output+input)\n",
        "      self.b[l] = np.zeros(output)\n",
        "      self.W_grad[l] = np.random.rand(input, output)\n",
        "      self.b_grad[l] = np.zeros(output)\n",
        "      input = output \n",
        "\n",
        "    # create weight matrix for output layer\n",
        "    output = Y.shape[1]\n",
        "    self.W[self.layers] = 4.90*(np.random.rand(input, output)-0.5)*self.init_range/np.sqrt(output+input)\n",
        "    self.b[self.layers] = np.zeros(output)\n",
        "    self.W_grad[self.layers] = np.random.rand(input, output)\n",
        "    self.b_grad[self.layers] = np.zeros(output)\n",
        "\n",
        "\n",
        "  # forward pass to compute outputs for a mini-batch X\n",
        "  # if return_Z=True, also save all hidden activation \n",
        "  # (refer to the box on page 166)\n",
        "  # input =>  X[B,d]: a batch of input vectors\n",
        "  # if return_Z=False, return only y[B,K]\n",
        "  # otherwise, return activations for all layers (including hidden layers) \n",
        "  def forward(self, X, return_Z=False):\n",
        "    # list to save all hidden nodes' activation values \n",
        "    if (return_Z):\n",
        "      Zs = [0] * (self.layers+2)\n",
        "    else:\n",
        "      Zs = [0]\n",
        "\n",
        "    Z = X\n",
        "    if(return_Z):\n",
        "        Zs[0] = Z\n",
        "    # forward pass from all hidden layers\n",
        "    for l in range(self.layers): \n",
        "      Z = relu(Z @ self.W[l]  + self.b[l])\n",
        "      if(return_Z):\n",
        "        Zs[l+1] = Z\n",
        "\n",
        "      ###############################################################################################################################\n",
        "      ################################################### MODIFIED CODE BELOW #######################################################\n",
        "      ###############################################################################################################################\n",
        "\n",
        "    #forward pass for output layer\n",
        "    l = self.layers\n",
        "    y = sigmoid(Z @ self.W[l] + self.b[l])\n",
        "    if (return_Z):\n",
        "      Zs[l+1] = y\n",
        "    else:\n",
        "      Zs[0] = y\n",
        "    \n",
        "    return Zs\n",
        "\n",
        "  # backward pass to compute gradients for a mini-batch of inputs X and targets Y\n",
        "  # Zs: list of all hidden activation values (pre-computed by a forward pass)\n",
        "  # return gradients of all weight matrices and bias vectors \n",
        "  # (refer to the box on page 188)\n",
        "  def backward(self, X, Y, Zs):\n",
        " \n",
        "      ###############################################################################################################################\n",
        "      ################################################### MODIFIED CODE BELOW #######################################################\n",
        "      ###############################################################################################################################\n",
        "\n",
        "    # output layer\n",
        "    l = len(Zs)-1\n",
        "    e = 0.5*(Zs[l] - Y)  # error signals for output layer (changed by me)\n",
        "    WG = np.einsum('bo,bi->bio', e, Zs[l-1])\n",
        "    self.W_grad[l-1] = np.mean(WG,axis=0) \n",
        "    self.b_grad[l-1] = np.mean(e,axis=0)\n",
        "\n",
        "    # backward for all hidden layers\n",
        "    for l in range(self.layers,0,-1):\n",
        "      e = ( e @ self.W[l].T ) * np.heaviside(Zs[l],0) \n",
        "      WG = np.einsum('bo,bi->bio', e, Zs[l-1])\n",
        "      self.W_grad[l-1] = np.mean(WG,axis=0)\n",
        "      self.b_grad[l-1] = np.mean(e,axis=0)\n",
        "\n",
        "    return self.W_grad, self.b_grad\n",
        "\n",
        "  # mini-batch SGD to update model parameters (Algorith 8.8 on page 189) \n",
        "  # X[N,d]: input feature vectors; Y[N,K]: one-hot output targets\n",
        "  def sgd(self, X, Y):\n",
        "    n = X.shape[0]            # number of samples\n",
        "\n",
        "    lr = self.lr\n",
        "    errorsA = np.zeros(self.max_epochs)\n",
        "    errorsC = np.zeros(self.max_epochs)\n",
        "\n",
        "    for epoch in range(self.max_epochs):\n",
        "      indices = np.random.permutation(n)  #randomly shuffle data indices\n",
        "      for batch_start in range(0, n, self.batch_size):\n",
        "        X_batch = X[indices[batch_start:batch_start + self.batch_size]]\n",
        "        Y_batch = Y[indices[batch_start:batch_start + self.batch_size]]\n",
        "\n",
        "        Zs = self.forward(X_batch, return_Z=True)\n",
        "\n",
        "        W_grad, b_grad = self.backward(X_batch, Y_batch, Zs)\n",
        "\n",
        "        for l in range(self.layers+1):\n",
        "          self.W[l] -= lr * W_grad[l]\n",
        "          self.b[l] -= lr * b_grad[l]\n",
        "\n",
        "      ###############################################################################################################################\n",
        "      ################################################### MODIFIED CODE BELOW #######################################################\n",
        "      ###############################################################################################################################\n",
        "\n",
        "      # plot all learning curves (A, B, C)\n",
        "      Z = self.forward(X, return_Z=False)\n",
        "      #calculate the mean squared error\n",
        "      errorsC[epoch] = np.mean((Z[0]-Y)**2)\n",
        "\n",
        "      train_label = np.argmax(Y, axis=1)\n",
        "      train_res = np.argmax(Z[0], axis=1)\n",
        "      errorsA[epoch] = np.count_nonzero(np.equal(train_res,train_label))/train_label.size\n",
        "\n",
        "      if(self.debug):\n",
        "        print(f'epoch = {epoch} (lr={lr:.2}): C = {errorsC[epoch]:.5f}')\n",
        "\n",
        "      lr *= self.annealing\n",
        "\n",
        "    return errorsA, errorsC\n",
        "\n",
        "  # X[N,d]: input feature vectors; Y[N,K]: one-hot output targets          \n",
        "  def fit(self, X, Y):\n",
        "\n",
        "    self.initialization(X, Y)\n",
        "\n",
        "    errorsA, errorsC = self.sgd(X, Y)\n",
        "\n",
        "    return errorsA, errorsC\n",
        "\n",
        "  # X[N,d]: input features;\n",
        "  # return: labels (NOT one-hot)\n",
        "  def predict(self, X):\n",
        "    Y = self.forward(X,return_Z=False)\n",
        "    #return np.argmax(Y[0], axis=1)\n",
        "    return Y[0]\n",
        "\n",
        "  # this function is used for returning the code layer i.e. the extracted features\n",
        "  def predict_code(self, X):\n",
        "    Y = self.forward(X,return_Z=True)\n",
        "    mid_index = int(len(self.struct) / 2)\n",
        "    return Y[mid_index]"
      ]
    },
    {
      "cell_type": "markdown",
      "metadata": {
        "id": "rzmOuAidZCNA"
      },
      "source": [
        "### **Bottleneck feature extractor model**"
      ]
    },
    {
      "cell_type": "code",
      "execution_count": null,
      "metadata": {
        "id": "Uz_YLS_2Y6jH"
      },
      "outputs": [],
      "source": [
        "# use numpy to implement fully-connected neural networks with mini-batch SGD \n",
        "import numpy as np\n",
        "\n",
        "# ReLU activation function\n",
        "def relu(x):\n",
        "  return np.maximum(x, 0) \n",
        "\n",
        "# column-wise softmax\n",
        "# X[N,d]: softmax over d\n",
        "def softmax(X):\n",
        "  m = X.max(axis=1)\n",
        "  return np.transpose(np.exp(X.T-m)/np.sum(np.exp(X.T-m), axis=0))\n",
        "\n",
        "class myMLP2():\n",
        "  def __init__(self, optimizer='sgd', debug=0, struct=[], activation='relu',\\\n",
        "               loss='ce', lr=1.0, max_epochs=10, batch_size=10, random_state=1,\\\n",
        "               init_range=1.0, annealing=1.0):\n",
        "    self.optimizer = optimizer     # which optimizer is used to learn\n",
        "    self.lr = lr                   # initial learning rate in SGD\n",
        "    self.annealing = annealing     # annealing rate in SGD\n",
        "    self.max_epochs = max_epochs   # max epochs in optimization \n",
        "    self.batch_size = batch_size   # mini-batch size in SGD\n",
        "    self.debug = debug             # whether print debugging info\n",
        "    self.activation=activation     # activation function \n",
        "    self.loss = loss               # the loss used for training objective \n",
        "    self.random_state=random_state # random state\n",
        "    self.init_range=init_range     # range for initializing weights \n",
        "\n",
        "    self.struct = struct           # network structure: e.g. [100], [500, 200], \n",
        "                                   #                         [100,100,100]\n",
        " \n",
        "  # initialize internal struct/variables for input/output \n",
        "  # X[N,d]: input features; Y[N,K]: 1-of-K one-hot vectors for output targets \n",
        "  def initialization(self, X, Y):\n",
        "    np.random.seed(self.random_state)\n",
        "\n",
        "    input = X.shape[1]                # input dimension \n",
        "    self.layers = len(self.struct)    # number of hidden layers \n",
        "    self.W = [0]*(self.layers+1)      # list for all weight matrices\n",
        "    self.b = [0]*(self.layers+1)      # list for all bias vectors \n",
        "    self.W_grad = [0]*(self.layers+1) # list for weight gradients\n",
        "    self.b_grad = [0]*(self.layers+1) # list for bias gradients \n",
        "\n",
        "    # create weight matrices for all hidden layers \n",
        "    for l in range(self.layers):  \n",
        "      output = self.struct[l]\n",
        "      self.W[l] = 4.90*(np.random.rand(input, output)-0.5)*self.init_range/np.sqrt(output+input)\n",
        "      self.b[l] = np.zeros(output)\n",
        "      self.W_grad[l] = np.random.rand(input, output)\n",
        "      self.b_grad[l] = np.zeros(output)\n",
        "      input = output \n",
        "\n",
        "    # create weight matrix for output layer\n",
        "    output = Y.shape[1]\n",
        "    self.W[self.layers] = 4.90*(np.random.rand(input, output)-0.5)*self.init_range/np.sqrt(output+input)\n",
        "    self.b[self.layers] = np.zeros(output)\n",
        "    self.W_grad[self.layers] = np.random.rand(input, output)\n",
        "    self.b_grad[self.layers] = np.zeros(output)\n",
        "\n",
        "\n",
        "  # forward pass to compute outputs for a mini-batch X\n",
        "  # if return_Z=True, also save all hidden activation \n",
        "  # (refer to the box on page 166)\n",
        "  # input =>  X[B,d]: a batch of input vectors\n",
        "  # if return_Z=False, return only y[B,K]\n",
        "  # otherwise, return activations for all layers (including hidden layers) \n",
        "  def forward(self, X, return_Z=False):\n",
        "    # list to save all hidden nodes' activation values \n",
        "    if (return_Z):\n",
        "      Zs = [0] * (self.layers+2)\n",
        "    else:\n",
        "      Zs = [0]\n",
        "\n",
        "    Z = X\n",
        "    if(return_Z):\n",
        "        Zs[0] = Z\n",
        "    # forward pass from all hidden layers\n",
        "    for l in range(self.layers): \n",
        "      Z = relu(Z @ self.W[l]  + self.b[l])\n",
        "      if(return_Z):\n",
        "        Zs[l+1] = Z\n",
        "\n",
        "    #forward pass for output layer\n",
        "    l = self.layers\n",
        "    y = softmax(Z @ self.W[l] + self.b[l])\n",
        "    if (return_Z):\n",
        "      Zs[l+1] = y\n",
        "    else:\n",
        "      Zs[0] = y\n",
        "    \n",
        "    return Zs\n",
        "\n",
        "  # backward pass to compute gradients for a mini-batch of inputs X and targets Y\n",
        "  # Zs: list of all hidden activation values (pre-computed by a forward pass)\n",
        "  # return gradients of all weight matrices and bias vectors \n",
        "  # (refer to the box on page 188)\n",
        "  def backward(self, X, Y, Zs):\n",
        " \n",
        "    # output layer\n",
        "    l = len(Zs)-1\n",
        "    e = Zs[l] - Y  # error signals for output layer \n",
        "    WG = np.einsum('bo,bi->bio', e, Zs[l-1])\n",
        "    self.W_grad[l-1] = np.mean(WG,axis=0) \n",
        "    self.b_grad[l-1] = np.mean(e,axis=0)\n",
        "\n",
        "    # backward for all hidden layers\n",
        "    for l in range(self.layers,0,-1):\n",
        "      e = ( e @ self.W[l].T ) * np.heaviside(Zs[l],0) \n",
        "      WG = np.einsum('bo,bi->bio', e, Zs[l-1])\n",
        "      self.W_grad[l-1] = np.mean(WG,axis=0)\n",
        "      self.b_grad[l-1] = np.mean(e,axis=0)\n",
        "\n",
        "    return self.W_grad, self.b_grad\n",
        "\n",
        "  # mini-batch SGD to update model parameters (Algorith 8.8 on page 189) \n",
        "  # X[N,d]: input feature vectors; Y[N,K]: one-hot output targets\n",
        "  def sgd(self, X, Y):\n",
        "    n = X.shape[0]            # number of samples\n",
        "\n",
        "    lr = self.lr\n",
        "    errorsA = np.zeros(self.max_epochs)\n",
        "    errorsC = np.zeros(self.max_epochs)\n",
        "\n",
        "    for epoch in range(self.max_epochs):\n",
        "      indices = np.random.permutation(n)  #randomly shuffle data indices\n",
        "      for batch_start in range(0, n, self.batch_size):\n",
        "        X_batch = X[indices[batch_start:batch_start + self.batch_size]]\n",
        "        Y_batch = Y[indices[batch_start:batch_start + self.batch_size]]\n",
        "\n",
        "        Zs = self.forward(X_batch, return_Z=True)\n",
        "\n",
        "        W_grad, b_grad = self.backward(X_batch, Y_batch, Zs)\n",
        "\n",
        "        for l in range(self.layers+1):\n",
        "          self.W[l] -= lr * W_grad[l]\n",
        "          self.b[l] -= lr * b_grad[l]\n",
        "\n",
        "      # plot all learning curves (A, B, C)\n",
        "      Z = self.forward(X, return_Z=False)\n",
        "      errorsC[epoch] = -np.mean (np.log(Z[0][Y==1]))\n",
        "\n",
        "      train_label = np.argmax(Y, axis=1)\n",
        "      train_res = np.argmax(Z[0], axis=1)\n",
        "      errorsA[epoch] = np.count_nonzero(np.equal(train_res,train_label))/train_label.size\n",
        "\n",
        "      if(self.debug):\n",
        "        print(f'epoch = {epoch} (lr={lr:.2}): C = {errorsC[epoch]:.5f}  A = {100*errorsA[epoch]:.2f}%')\n",
        "\n",
        "      lr *= self.annealing\n",
        "\n",
        "    return errorsA, errorsC\n",
        "\n",
        "  # X[N,d]: input feature vectors; Y[N,K]: one-hot output targets          \n",
        "  def fit(self, X, Y):\n",
        "\n",
        "    self.initialization(X, Y)\n",
        "\n",
        "    errorsA, errorsC = self.sgd(X, Y)\n",
        "\n",
        "    return errorsA, errorsC\n",
        "\n",
        "  # X[N,d]: input features;\n",
        "  # return: labels (NOT one-hot)\n",
        "  def predict(self, X):\n",
        "    Y = self.forward(X,return_Z=False)\n",
        "    return np.argmax(Y[0], axis=1)\n",
        "\n",
        "  def predict_code(self, X):\n",
        "    Y = self.forward(X,return_Z=True)\n",
        "    mid_index = int(len(self.struct) / 2)\n",
        "    return Y[mid_index]    "
      ]
    },
    {
      "cell_type": "markdown",
      "metadata": {
        "id": "9wLjUGmB6gRx"
      },
      "source": [
        "### Autoencoder **[50,20,50]** test accuracy=93.13%"
      ]
    },
    {
      "cell_type": "code",
      "execution_count": null,
      "metadata": {
        "colab": {
          "base_uri": "https://localhost:8080/",
          "height": 987
        },
        "id": "qCPNE2EfOzxh",
        "outputId": "df242e4a-4ba7-4e8d-8182-f8f11520e8e3"
      },
      "outputs": [
        {
          "name": "stdout",
          "output_type": "stream",
          "text": [
            "epoch = 0 (lr=0.001): C = 0.03628\n",
            "epoch = 1 (lr=0.0009): C = 0.02818\n",
            "epoch = 2 (lr=0.00081): C = 0.02503\n",
            "epoch = 3 (lr=0.00073): C = 0.02325\n",
            "epoch = 4 (lr=0.00066): C = 0.02139\n",
            "epoch = 5 (lr=0.00059): C = 0.02046\n",
            "epoch = 6 (lr=0.00053): C = 0.01993\n",
            "epoch = 7 (lr=0.00048): C = 0.01960\n",
            "epoch = 8 (lr=0.00043): C = 0.01935\n",
            "epoch = 9 (lr=0.00039): C = 0.01920\n",
            "epoch = 10 (lr=0.00035): C = 0.01899\n",
            "epoch = 11 (lr=0.00031): C = 0.01889\n",
            "test MSE = 0.018478185957949634%\n"
          ]
        },
        {
          "data": {
            "image/png": "[encoded data removed]",
            "text/plain": [
              "<Figure size 432x288 with 1 Axes>"
            ]
          },
          "metadata": {},
          "output_type": "display_data"
        },
        {
          "data": {
            "image/png": "[encoded data removed]",
            "text/plain": [
              "<Figure size 432x288 with 1 Axes>"
            ]
          },
          "metadata": {},
          "output_type": "display_data"
        },
        {
          "data": {
            "image/png": "[encoded data removed]",
            "text/plain": [
              "<Figure size 432x288 with 1 Axes>"
            ]
          },
          "metadata": {},
          "output_type": "display_data"
        }
      ],
      "source": [
        "import matplotlib.pyplot as plt\n",
        "\n",
        "mlp = myMLP1(struct=[50,20,50], debug=1, max_epochs=12, annealing=0.9, batch_size=10, lr=0.001)\n",
        "\n",
        "A, C = mlp.fit(X_train, X_train) \n",
        "\n",
        "result = mlp.predict(X_test)\n",
        "print(f'test MSE = {np.mean((result-X_test)**2)}%')\n",
        "\n",
        "fig = plt.plot(C)\n",
        "plt.show(fig)\n",
        "\n",
        "plt.imshow(X_test[0].reshape(28, 28), cmap=plt.get_cmap('gray'))\n",
        "plt.show()\n",
        "\n",
        "plt.imshow(result[0].reshape(28, 28), cmap=plt.get_cmap('gray'))\n",
        "plt.show()"
      ]
    },
    {
      "cell_type": "code",
      "execution_count": null,
      "metadata": {
        "id": "krse0rBsLDmX"
      },
      "outputs": [],
      "source": [
        "#prepare dataset with extracted features\n",
        "\n",
        "train_data, train_label = mnist_loader.load_training()\n",
        "test_data, test_label = mnist_loader.load_testing()\n",
        "train_data = np.array(train_data, dtype='float')/255 # norm to [0,1]\n",
        "train_data = mlp.predict_code(train_data)/255.0\n",
        "train_label = np.array(train_label, dtype='short')\n",
        "test_data = np.array(test_data, dtype='float')/255 # norm to [0,1]\n",
        "test_data = mlp.predict_code(test_data)/255.0\n",
        "test_label = np.array(test_label, dtype='short')"
      ]
    },
    {
      "cell_type": "code",
      "execution_count": null,
      "metadata": {
        "id": "WT5V2aib116N"
      },
      "outputs": [],
      "source": [
        "# prepare digits '7' and '9' for binary SVMs\n",
        "\n",
        "digit_train_index = np.logical_or(train_label == 7, train_label == 9)\n",
        "X_train = train_data[digit_train_index]\n",
        "y_train = train_label[digit_train_index]\n",
        "digit_test_index = np.logical_or(test_label == 7, test_label == 9)\n",
        "X_test = test_data[digit_test_index]\n",
        "y_test = test_label[digit_test_index]\n",
        "\n",
        "# normalize all feature vectors to unit-length\n",
        "X_train = np.transpose (X_train.T / np.sqrt(np.sum(X_train*X_train, axis=1)))\n",
        "X_test =  np.transpose (X_test.T  / np.sqrt(np.sum(X_test*X_test, axis=1)))\n",
        "\n",
        "# convert labels: '7' => -1, '9' => +1\n",
        "CUTOFF = 8 # any number between '7' and '9'\n",
        "y_train = np.sign(y_train-CUTOFF)\n",
        "y_test = np.sign(y_test-CUTOFF)"
      ]
    },
    {
      "cell_type": "code",
      "execution_count": null,
      "metadata": {
        "colab": {
          "base_uri": "https://localhost:8080/"
        },
        "id": "ZIKZ9nD94qPD",
        "outputId": "47280d3b-6cd5-4a72-85a2-8cd45f808b61"
      },
      "outputs": [
        {
          "name": "stdout",
          "output_type": "stream",
          "text": [
            "MY RBF SVM (C=2, gamma=9): training accuracy=92.52%  test accuracy=93.13%\n"
          ]
        }
      ],
      "source": [
        "c = 2\n",
        "g = 9\n",
        "\n",
        "svm = mySVM(max_epochs=20, optimizer='smo', C=c, kernel='rbf', gamma=g, debug=0, I=7, J=9)\n",
        "svm.fit(X_train,y_train)\n",
        "\n",
        "predict = svm.predict(X_train)\n",
        "train_acc = np.count_nonzero(np.equal(predict,y_train))/y_train.size\n",
        "predict = svm.predict(X_test)\n",
        "test_acc = np.count_nonzero(np.equal(predict,y_test))/y_test.size\n",
        "print(f'MY RBF SVM (C={c}, gamma={g}): training accuracy={100*train_acc:.2f}%  test accuracy={100*test_acc:.2f}%')"
      ]
    },
    {
      "cell_type": "markdown",
      "metadata": {
        "id": "Rt2aYSHB6tmT"
      },
      "source": [
        "### Autoencoder **[100,50,100]** test accuracy=94.70%"
      ]
    },
    {
      "cell_type": "code",
      "execution_count": null,
      "metadata": {
        "id": "vimtGgSd7Amg"
      },
      "outputs": [],
      "source": [
        "mnist_loader = MNIST('/content/drive/My Drive/Colab Notebooks/datasets/MNIST')\n",
        "train_data, train_label = mnist_loader.load_training()\n",
        "test_data, test_label = mnist_loader.load_testing()\n",
        "X_train = np.array(train_data, dtype='float')/255.0 # norm to [0,1]\n",
        "y_train = np.array(train_label, dtype='short')\n",
        "X_test = np.array(test_data, dtype='float')/255.0 # norm to [0,1]\n",
        "y_test = np.array(test_label, dtype='short')\n",
        "\n",
        "# convert MNIST training labels into 10-D one-hot vectors \n",
        "Y_train = np.zeros((y_train.size, y_train.max()+1))\n",
        "Y_train[np.arange(y_train.size),y_train] = 1"
      ]
    },
    {
      "cell_type": "code",
      "execution_count": null,
      "metadata": {
        "colab": {
          "base_uri": "https://localhost:8080/",
          "height": 987
        },
        "id": "3WBVytnD6v3q",
        "outputId": "311fa560-930e-4a57-b347-57c6f33be7b3"
      },
      "outputs": [
        {
          "name": "stdout",
          "output_type": "stream",
          "text": [
            "epoch = 0 (lr=0.001): C = 0.02630\n",
            "epoch = 1 (lr=0.0009): C = 0.01734\n",
            "epoch = 2 (lr=0.00081): C = 0.01446\n",
            "epoch = 3 (lr=0.00073): C = 0.01257\n",
            "epoch = 4 (lr=0.00066): C = 0.01187\n",
            "epoch = 5 (lr=0.00059): C = 0.01080\n",
            "epoch = 6 (lr=0.00053): C = 0.01018\n",
            "epoch = 7 (lr=0.00048): C = 0.00966\n",
            "epoch = 8 (lr=0.00043): C = 0.00935\n",
            "epoch = 9 (lr=0.00039): C = 0.00907\n",
            "epoch = 10 (lr=0.00035): C = 0.00892\n",
            "epoch = 11 (lr=0.00031): C = 0.00858\n",
            "test MSE = 0.008292736171176734%\n"
          ]
        },
        {
          "data": {
            "image/png": "[encoded data removed]",
            "text/plain": [
              "<Figure size 432x288 with 1 Axes>"
            ]
          },
          "metadata": {},
          "output_type": "display_data"
        },
        {
          "data": {
            "image/png": "[encoded data removed]",
            "text/plain": [
              "<Figure size 432x288 with 1 Axes>"
            ]
          },
          "metadata": {},
          "output_type": "display_data"
        },
        {
          "data": {
            "image/png": "[encoded data removed]",
            "text/plain": [
              "<Figure size 432x288 with 1 Axes>"
            ]
          },
          "metadata": {},
          "output_type": "display_data"
        }
      ],
      "source": [
        "import matplotlib.pyplot as plt\n",
        "\n",
        "mlp = myMLP1(struct=[100,50,100], debug=1, max_epochs=12, annealing=0.9, batch_size=10, lr=0.001)\n",
        "\n",
        "A, C = mlp.fit(X_train, X_train) \n",
        "\n",
        "result = mlp.predict(X_test)\n",
        "print(f'test MSE = {np.mean((result-X_test)**2)}%')\n",
        "\n",
        "fig = plt.plot(C)\n",
        "plt.show(fig)\n",
        "\n",
        "plt.imshow(X_test[0].reshape(28, 28), cmap=plt.get_cmap('gray'))\n",
        "plt.show()\n",
        "\n",
        "plt.imshow(result[0].reshape(28, 28), cmap=plt.get_cmap('gray'))\n",
        "plt.show()"
      ]
    },
    {
      "cell_type": "code",
      "execution_count": null,
      "metadata": {
        "id": "hG_Krqmc6zUu"
      },
      "outputs": [],
      "source": [
        "#prepare dataset with extracted features\n",
        "\n",
        "train_data, train_label = mnist_loader.load_training()\n",
        "test_data, test_label = mnist_loader.load_testing()\n",
        "train_data = np.array(train_data, dtype='float')/255 # norm to [0,1]\n",
        "train_data = mlp.predict_code(train_data)/255.0\n",
        "train_label = np.array(train_label, dtype='short')\n",
        "test_data = np.array(test_data, dtype='float')/255 # norm to [0,1]\n",
        "test_data = mlp.predict_code(test_data)/255.0\n",
        "test_label = np.array(test_label, dtype='short')"
      ]
    },
    {
      "cell_type": "code",
      "execution_count": null,
      "metadata": {
        "id": "Q7xguyA961Vc"
      },
      "outputs": [],
      "source": [
        "# prepare digits '7' and '9' for binary SVMs\n",
        "\n",
        "digit_train_index = np.logical_or(train_label == 7, train_label == 9)\n",
        "X_train = train_data[digit_train_index]\n",
        "y_train = train_label[digit_train_index]\n",
        "digit_test_index = np.logical_or(test_label == 7, test_label == 9)\n",
        "X_test = test_data[digit_test_index]\n",
        "y_test = test_label[digit_test_index]\n",
        "\n",
        "# normalize all feature vectors to unit-length\n",
        "X_train = np.transpose (X_train.T / np.sqrt(np.sum(X_train*X_train, axis=1)))\n",
        "X_test =  np.transpose (X_test.T  / np.sqrt(np.sum(X_test*X_test, axis=1)))\n",
        "\n",
        "# convert labels: '7' => -1, '9' => +1\n",
        "CUTOFF = 8 # any number between '7' and '9'\n",
        "y_train = np.sign(y_train-CUTOFF)\n",
        "y_test = np.sign(y_test-CUTOFF)"
      ]
    },
    {
      "cell_type": "code",
      "execution_count": null,
      "metadata": {
        "colab": {
          "base_uri": "https://localhost:8080/"
        },
        "id": "EGvDotYQ624S",
        "outputId": "f6e0a1b5-66bc-4208-e812-8467b6e9f211"
      },
      "outputs": [
        {
          "name": "stdout",
          "output_type": "stream",
          "text": [
            "MY RBF SVM (C=2, gamma=9): training accuracy=94.11%  test accuracy=94.70%\n"
          ]
        }
      ],
      "source": [
        "c = 2\n",
        "g = 9\n",
        "\n",
        "svm = mySVM(max_epochs=20, optimizer='smo', C=c, kernel='rbf', gamma=g, debug=0, I=7, J=9)\n",
        "svm.fit(X_train,y_train)\n",
        "\n",
        "predict = svm.predict(X_train)\n",
        "train_acc = np.count_nonzero(np.equal(predict,y_train))/y_train.size\n",
        "predict = svm.predict(X_test)\n",
        "test_acc = np.count_nonzero(np.equal(predict,y_test))/y_test.size\n",
        "print(f'MY RBF SVM (C={c}, gamma={g}): training accuracy={100*train_acc:.2f}%  test accuracy={100*test_acc:.2f}%')"
      ]
    },
    {
      "cell_type": "markdown",
      "metadata": {
        "id": "YpIJ9rQlCUiT"
      },
      "source": [
        "### Autoencoder **[150,100,50,100,150]** test accuracy=93.42%"
      ]
    },
    {
      "cell_type": "code",
      "execution_count": null,
      "metadata": {
        "id": "Nk9RlNnVCQKZ"
      },
      "outputs": [],
      "source": [
        "mnist_loader = MNIST('/content/drive/My Drive/Colab Notebooks/datasets/MNIST')\n",
        "train_data, train_label = mnist_loader.load_training()\n",
        "test_data, test_label = mnist_loader.load_testing()\n",
        "X_train = np.array(train_data, dtype='float')/255.0 # norm to [0,1]\n",
        "y_train = np.array(train_label, dtype='short')\n",
        "X_test = np.array(test_data, dtype='float')/255.0 # norm to [0,1]\n",
        "y_test = np.array(test_label, dtype='short')\n",
        "\n",
        "# convert MNIST training labels into 10-D one-hot vectors \n",
        "Y_train = np.zeros((y_train.size, y_train.max()+1))\n",
        "Y_train[np.arange(y_train.size),y_train] = 1"
      ]
    },
    {
      "cell_type": "code",
      "execution_count": null,
      "metadata": {
        "colab": {
          "base_uri": "https://localhost:8080/",
          "height": 988
        },
        "id": "5OfzdKTMCQKa",
        "outputId": "9278cda3-15ae-4a24-cccf-4193b1ad0c83"
      },
      "outputs": [
        {
          "name": "stdout",
          "output_type": "stream",
          "text": [
            "epoch = 0 (lr=0.001): C = 0.02935\n",
            "epoch = 1 (lr=0.0009): C = 0.02057\n",
            "epoch = 2 (lr=0.00081): C = 0.01664\n",
            "epoch = 3 (lr=0.00073): C = 0.01442\n",
            "epoch = 4 (lr=0.00066): C = 0.01307\n",
            "epoch = 5 (lr=0.00059): C = 0.01230\n",
            "epoch = 6 (lr=0.00053): C = 0.01146\n",
            "epoch = 7 (lr=0.00048): C = 0.01097\n",
            "epoch = 8 (lr=0.00043): C = 0.01071\n",
            "epoch = 9 (lr=0.00039): C = 0.01026\n",
            "epoch = 10 (lr=0.00035): C = 0.00989\n",
            "epoch = 11 (lr=0.00031): C = 0.00981\n",
            "test MSE = 0.00957943784484455%\n"
          ]
        },
        {
          "data": {
            "image/png": "[encoded data removed]",
            "text/plain": [
              "<Figure size 432x288 with 1 Axes>"
            ]
          },
          "metadata": {},
          "output_type": "display_data"
        },
        {
          "data": {
            "image/png": "[encoded data removed]",
            "text/plain": [
              "<Figure size 432x288 with 1 Axes>"
            ]
          },
          "metadata": {},
          "output_type": "display_data"
        },
        {
          "data": {
            "image/png": "[encoded data removed]",
            "text/plain": [
              "<Figure size 432x288 with 1 Axes>"
            ]
          },
          "metadata": {},
          "output_type": "display_data"
        }
      ],
      "source": [
        "import matplotlib.pyplot as plt\n",
        "\n",
        "mlp = myMLP1(struct=[150,100,50,100,150], debug=1, max_epochs=12, annealing=0.9, batch_size=10, lr=0.001)\n",
        "\n",
        "A, C = mlp.fit(X_train, X_train) \n",
        "\n",
        "result = mlp.predict(X_test)\n",
        "print(f'test MSE = {np.mean((result-X_test)**2)}%')\n",
        "\n",
        "fig = plt.plot(C)\n",
        "plt.show(fig)\n",
        "\n",
        "plt.imshow(X_test[0].reshape(28, 28), cmap=plt.get_cmap('gray'))\n",
        "plt.show()\n",
        "\n",
        "plt.imshow(result[0].reshape(28, 28), cmap=plt.get_cmap('gray'))\n",
        "plt.show()"
      ]
    },
    {
      "cell_type": "code",
      "execution_count": null,
      "metadata": {
        "id": "9fKOIvEsCQKa"
      },
      "outputs": [],
      "source": [
        "#prepare dataset with extracted features\n",
        "\n",
        "train_data, train_label = mnist_loader.load_training()\n",
        "test_data, test_label = mnist_loader.load_testing()\n",
        "train_data = np.array(train_data, dtype='float')/255 # norm to [0,1]\n",
        "train_data = mlp.predict_code(train_data)/255.0\n",
        "train_label = np.array(train_label, dtype='short')\n",
        "test_data = np.array(test_data, dtype='float')/255 # norm to [0,1]\n",
        "test_data = mlp.predict_code(test_data)/255.0\n",
        "test_label = np.array(test_label, dtype='short')"
      ]
    },
    {
      "cell_type": "code",
      "execution_count": null,
      "metadata": {
        "id": "JiK2ClVcCQKa"
      },
      "outputs": [],
      "source": [
        "# prepare digits '7' and '9' for binary SVMs\n",
        "\n",
        "digit_train_index = np.logical_or(train_label == 7, train_label == 9)\n",
        "X_train = train_data[digit_train_index]\n",
        "y_train = train_label[digit_train_index]\n",
        "digit_test_index = np.logical_or(test_label == 7, test_label == 9)\n",
        "X_test = test_data[digit_test_index]\n",
        "y_test = test_label[digit_test_index]\n",
        "\n",
        "# normalize all feature vectors to unit-length\n",
        "X_train = np.transpose (X_train.T / np.sqrt(np.sum(X_train*X_train, axis=1)))\n",
        "X_test =  np.transpose (X_test.T  / np.sqrt(np.sum(X_test*X_test, axis=1)))\n",
        "\n",
        "# convert labels: '7' => -1, '9' => +1\n",
        "CUTOFF = 8 # any number between '7' and '9'\n",
        "y_train = np.sign(y_train-CUTOFF)\n",
        "y_test = np.sign(y_test-CUTOFF)"
      ]
    },
    {
      "cell_type": "code",
      "execution_count": null,
      "metadata": {
        "colab": {
          "base_uri": "https://localhost:8080/"
        },
        "id": "FEbmzzcWCQKa",
        "outputId": "6035c72c-7eaf-46df-e0b6-b86d49905111"
      },
      "outputs": [
        {
          "name": "stdout",
          "output_type": "stream",
          "text": [
            "MY RBF SVM (C=2, gamma=9): training accuracy=93.14%  test accuracy=93.42%\n"
          ]
        }
      ],
      "source": [
        "c = 2\n",
        "g = 9\n",
        "\n",
        "svm = mySVM(max_epochs=20, optimizer='smo', C=c, kernel='rbf', gamma=g, debug=0, I=7, J=9)\n",
        "svm.fit(X_train,y_train)\n",
        "\n",
        "predict = svm.predict(X_train)\n",
        "train_acc = np.count_nonzero(np.equal(predict,y_train))/y_train.size\n",
        "predict = svm.predict(X_test)\n",
        "test_acc = np.count_nonzero(np.equal(predict,y_test))/y_test.size\n",
        "print(f'MY RBF SVM (C={c}, gamma={g}): training accuracy={100*train_acc:.2f}%  test accuracy={100*test_acc:.2f}%')"
      ]
    },
    {
      "cell_type": "markdown",
      "metadata": {
        "id": "v7Wr9Dd8GT1P"
      },
      "source": [
        "### Autoencoder **[150,125,100,50,100,125,150]** test accuracy=94.35%"
      ]
    },
    {
      "cell_type": "code",
      "execution_count": null,
      "metadata": {
        "id": "H-neyAkMGQQ2"
      },
      "outputs": [],
      "source": [
        "mnist_loader = MNIST('/content/drive/My Drive/Colab Notebooks/datasets/MNIST')\n",
        "train_data, train_label = mnist_loader.load_training()\n",
        "test_data, test_label = mnist_loader.load_testing()\n",
        "X_train = np.array(train_data, dtype='float')/255.0 # norm to [0,1]\n",
        "y_train = np.array(train_label, dtype='short')\n",
        "X_test = np.array(test_data, dtype='float')/255.0 # norm to [0,1]\n",
        "y_test = np.array(test_label, dtype='short')\n",
        "\n",
        "# convert MNIST training labels into 10-D one-hot vectors \n",
        "Y_train = np.zeros((y_train.size, y_train.max()+1))\n",
        "Y_train[np.arange(y_train.size),y_train] = 1"
      ]
    },
    {
      "cell_type": "code",
      "execution_count": null,
      "metadata": {
        "colab": {
          "base_uri": "https://localhost:8080/",
          "height": 987
        },
        "id": "EGaEyGbhGQQ2",
        "outputId": "3609bea7-9174-40b9-d198-3f63406d946c"
      },
      "outputs": [
        {
          "name": "stdout",
          "output_type": "stream",
          "text": [
            "epoch = 0 (lr=0.001): C = 0.03617\n",
            "epoch = 1 (lr=0.0009): C = 0.02542\n",
            "epoch = 2 (lr=0.00081): C = 0.02159\n",
            "epoch = 3 (lr=0.00073): C = 0.01941\n",
            "epoch = 4 (lr=0.00066): C = 0.01598\n",
            "epoch = 5 (lr=0.00059): C = 0.01477\n",
            "epoch = 6 (lr=0.00053): C = 0.01386\n",
            "epoch = 7 (lr=0.00048): C = 0.01309\n",
            "epoch = 8 (lr=0.00043): C = 0.01256\n",
            "epoch = 9 (lr=0.00039): C = 0.01192\n",
            "epoch = 10 (lr=0.00035): C = 0.01163\n",
            "epoch = 11 (lr=0.00031): C = 0.01124\n",
            "test MSE = 0.01106892750506431%\n"
          ]
        },
        {
          "data": {
            "image/png": "[encoded data removed]",
            "text/plain": [
              "<Figure size 432x288 with 1 Axes>"
            ]
          },
          "metadata": {},
          "output_type": "display_data"
        },
        {
          "data": {
            "image/png": "[encoded data removed]",
            "text/plain": [
              "<Figure size 432x288 with 1 Axes>"
            ]
          },
          "metadata": {},
          "output_type": "display_data"
        },
        {
          "data": {
            "image/png": "[encoded data removed]",
            "text/plain": [
              "<Figure size 432x288 with 1 Axes>"
            ]
          },
          "metadata": {},
          "output_type": "display_data"
        }
      ],
      "source": [
        "import matplotlib.pyplot as plt\n",
        "\n",
        "mlp = myMLP1(struct=[150,125,100,50,100,125,150], debug=1, max_epochs=12, annealing=0.9, batch_size=10, lr=0.001)\n",
        "\n",
        "A, C = mlp.fit(X_train, X_train) \n",
        "\n",
        "result = mlp.predict(X_test)\n",
        "print(f'test MSE = {np.mean((result-X_test)**2)}%')\n",
        "\n",
        "fig = plt.plot(C)\n",
        "plt.show(fig)\n",
        "\n",
        "plt.imshow(X_test[0].reshape(28, 28), cmap=plt.get_cmap('gray'))\n",
        "plt.show()\n",
        "\n",
        "plt.imshow(result[0].reshape(28, 28), cmap=plt.get_cmap('gray'))\n",
        "plt.show()"
      ]
    },
    {
      "cell_type": "code",
      "execution_count": null,
      "metadata": {
        "id": "1POmoucJGQQ2"
      },
      "outputs": [],
      "source": [
        "#prepare dataset with extracted features\n",
        "\n",
        "train_data, train_label = mnist_loader.load_training()\n",
        "test_data, test_label = mnist_loader.load_testing()\n",
        "train_data = np.array(train_data, dtype='float')/255 # norm to [0,1]\n",
        "train_data = mlp.predict_code(train_data)/255.0\n",
        "train_label = np.array(train_label, dtype='short')\n",
        "test_data = np.array(test_data, dtype='float')/255 # norm to [0,1]\n",
        "test_data = mlp.predict_code(test_data)/255.0\n",
        "test_label = np.array(test_label, dtype='short')"
      ]
    },
    {
      "cell_type": "code",
      "execution_count": null,
      "metadata": {
        "id": "xGW2IlfLGQQ2"
      },
      "outputs": [],
      "source": [
        "# prepare digits '7' and '9' for binary SVMs\n",
        "\n",
        "digit_train_index = np.logical_or(train_label == 7, train_label == 9)\n",
        "X_train = train_data[digit_train_index]\n",
        "y_train = train_label[digit_train_index]\n",
        "digit_test_index = np.logical_or(test_label == 7, test_label == 9)\n",
        "X_test = test_data[digit_test_index]\n",
        "y_test = test_label[digit_test_index]\n",
        "\n",
        "# normalize all feature vectors to unit-length\n",
        "X_train = np.transpose (X_train.T / np.sqrt(np.sum(X_train*X_train, axis=1)))\n",
        "X_test =  np.transpose (X_test.T  / np.sqrt(np.sum(X_test*X_test, axis=1)))\n",
        "\n",
        "# convert labels: '7' => -1, '9' => +1\n",
        "CUTOFF = 8 # any number between '7' and '9'\n",
        "y_train = np.sign(y_train-CUTOFF)\n",
        "y_test = np.sign(y_test-CUTOFF)"
      ]
    },
    {
      "cell_type": "code",
      "execution_count": null,
      "metadata": {
        "colab": {
          "base_uri": "https://localhost:8080/"
        },
        "id": "6qr2vJRXGQQ2",
        "outputId": "369ae55c-d761-4f44-92de-4134a941d6f4"
      },
      "outputs": [
        {
          "name": "stdout",
          "output_type": "stream",
          "text": [
            "MY RBF SVM (C=2, gamma=9): training accuracy=93.79%  test accuracy=94.35%\n"
          ]
        }
      ],
      "source": [
        "c = 2\n",
        "g = 9\n",
        "\n",
        "svm = mySVM(max_epochs=20, optimizer='smo', C=c, kernel='rbf', gamma=g, debug=0, I=7, J=9)\n",
        "svm.fit(X_train,y_train)\n",
        "\n",
        "predict = svm.predict(X_train)\n",
        "train_acc = np.count_nonzero(np.equal(predict,y_train))/y_train.size\n",
        "predict = svm.predict(X_test)\n",
        "test_acc = np.count_nonzero(np.equal(predict,y_test))/y_test.size\n",
        "print(f'MY RBF SVM (C={c}, gamma={g}): training accuracy={100*train_acc:.2f}%  test accuracy={100*test_acc:.2f}%')"
      ]
    },
    {
      "cell_type": "markdown",
      "metadata": {
        "id": "FWcQP_VIbJmv"
      },
      "source": [
        "### Bottleneck feature extractor **[50,20,50]** test accuracy=95.97%"
      ]
    },
    {
      "cell_type": "code",
      "execution_count": null,
      "metadata": {
        "id": "xm4HvRyRbSf1"
      },
      "outputs": [],
      "source": [
        "mnist_loader = MNIST('/content/drive/My Drive/Colab Notebooks/datasets/MNIST')\n",
        "train_data, train_label = mnist_loader.load_training()\n",
        "test_data, test_label = mnist_loader.load_testing()\n",
        "X_train = np.array(train_data, dtype='float')/255.0 # norm to [0,1]\n",
        "y_train = np.array(train_label, dtype='short')\n",
        "X_test = np.array(test_data, dtype='float')/255.0 # norm to [0,1]\n",
        "y_test = np.array(test_label, dtype='short')\n",
        "\n",
        "# convert MNIST training labels into 10-D one-hot vectors \n",
        "Y_train = np.zeros((y_train.size, y_train.max()+1))\n",
        "Y_train[np.arange(y_train.size),y_train] = 1"
      ]
    },
    {
      "cell_type": "code",
      "execution_count": null,
      "metadata": {
        "colab": {
          "base_uri": "https://localhost:8080/",
          "height": 520
        },
        "id": "EmX6w02BbSf1",
        "outputId": "5ddd1a4f-a9d3-4757-ae3a-1dea362a2bc8"
      },
      "outputs": [
        {
          "name": "stdout",
          "output_type": "stream",
          "text": [
            "epoch = 0 (lr=0.001): C = 0.83760  A = 78.30%\n",
            "epoch = 1 (lr=0.0009): C = 0.46088  A = 86.98%\n",
            "epoch = 2 (lr=0.00081): C = 0.37307  A = 89.22%\n",
            "epoch = 3 (lr=0.00073): C = 0.33377  A = 90.41%\n",
            "epoch = 4 (lr=0.00066): C = 0.31132  A = 91.04%\n",
            "epoch = 5 (lr=0.00059): C = 0.29403  A = 91.57%\n",
            "epoch = 6 (lr=0.00053): C = 0.28211  A = 91.84%\n",
            "epoch = 7 (lr=0.00048): C = 0.27086  A = 92.18%\n",
            "epoch = 8 (lr=0.00043): C = 0.26369  A = 92.39%\n",
            "epoch = 9 (lr=0.00039): C = 0.25743  A = 92.58%\n",
            "epoch = 10 (lr=0.00035): C = 0.25217  A = 92.68%\n",
            "epoch = 11 (lr=0.00031): C = 0.24623  A = 92.88%\n",
            "test accuracy = 93.04%\n"
          ]
        },
        {
          "data": {
            "image/png": "[encoded data removed]",
            "text/plain": [
              "<Figure size 432x288 with 2 Axes>"
            ]
          },
          "metadata": {},
          "output_type": "display_data"
        }
      ],
      "source": [
        "import matplotlib.pyplot as plt\n",
        "\n",
        "mlp = myMLP2(struct=[50,20,50], debug=1, max_epochs=12, annealing=0.9, batch_size=10, lr=0.001)\n",
        "\n",
        "A, C = mlp.fit(X_train, Y_train) \n",
        "\n",
        "result = mlp.predict(X_test)\n",
        "test_acc =  100.0*jnp.count_nonzero(jnp.equal(result, y_test))/y_test.size\n",
        "print(f'test accuracy = {test_acc:.2f}%')\n",
        "\n",
        "fig, ax = plt.subplots(2)\n",
        "fig.suptitle('monitoring three learning curves (A, C)')\n",
        "ax[0].plot(C, 'b')\n",
        "_=ax[0].legend(['curve C'])\n",
        "\n",
        "ax[1].plot(A, 'r')\n",
        "_=ax[1].legend(['curve A'])"
      ]
    },
    {
      "cell_type": "code",
      "execution_count": null,
      "metadata": {
        "id": "sPt3_Q61boBa"
      },
      "outputs": [],
      "source": [
        "#prepare dataset with extracted features\n",
        "\n",
        "train_data, train_label = mnist_loader.load_training()\n",
        "test_data, test_label = mnist_loader.load_testing()\n",
        "train_data = np.array(train_data, dtype='float')/255 # norm to [0,1]\n",
        "train_data = mlp.predict_code(train_data)/255.0\n",
        "train_label = np.array(train_label, dtype='short')\n",
        "test_data = np.array(test_data, dtype='float')/255 # norm to [0,1]\n",
        "test_data = mlp.predict_code(test_data)/255.0\n",
        "test_label = np.array(test_label, dtype='short')"
      ]
    },
    {
      "cell_type": "code",
      "execution_count": null,
      "metadata": {
        "id": "iDl3FhM-boBb"
      },
      "outputs": [],
      "source": [
        "# prepare digits '7' and '9' for binary SVMs\n",
        "\n",
        "digit_train_index = np.logical_or(train_label == 7, train_label == 9)\n",
        "X_train = train_data[digit_train_index]\n",
        "y_train = train_label[digit_train_index]\n",
        "digit_test_index = np.logical_or(test_label == 7, test_label == 9)\n",
        "X_test = test_data[digit_test_index]\n",
        "y_test = test_label[digit_test_index]\n",
        "\n",
        "# normalize all feature vectors to unit-length\n",
        "X_train = np.transpose (X_train.T / np.sqrt(np.sum(X_train*X_train, axis=1)))\n",
        "X_test =  np.transpose (X_test.T  / np.sqrt(np.sum(X_test*X_test, axis=1)))\n",
        "\n",
        "# convert labels: '7' => -1, '9' => +1\n",
        "CUTOFF = 8 # any number between '7' and '9'\n",
        "y_train = np.sign(y_train-CUTOFF)\n",
        "y_test = np.sign(y_test-CUTOFF)"
      ]
    },
    {
      "cell_type": "code",
      "execution_count": null,
      "metadata": {
        "colab": {
          "base_uri": "https://localhost:8080/"
        },
        "id": "7USuNKgAbpZ9",
        "outputId": "c93ad65b-ca90-42d7-b3c6-a4d637b38979"
      },
      "outputs": [
        {
          "name": "stdout",
          "output_type": "stream",
          "text": [
            "MY RBF SVM (C=2, gamma=9): training accuracy=95.26%  test accuracy=95.97%\n"
          ]
        }
      ],
      "source": [
        "c = 2\n",
        "g = 9\n",
        "\n",
        "svm = mySVM(max_epochs=20, optimizer='smo', C=c, kernel='rbf', gamma=g, debug=0, I=7, J=9)\n",
        "svm.fit(X_train,y_train)\n",
        "\n",
        "predict = svm.predict(X_train)\n",
        "train_acc = np.count_nonzero(np.equal(predict,y_train))/y_train.size\n",
        "predict = svm.predict(X_test)\n",
        "test_acc = np.count_nonzero(np.equal(predict,y_test))/y_test.size\n",
        "print(f'MY RBF SVM (C={c}, gamma={g}): training accuracy={100*train_acc:.2f}%  test accuracy={100*test_acc:.2f}%')"
      ]
    },
    {
      "cell_type": "markdown",
      "metadata": {
        "id": "r-t7XYORgNQL"
      },
      "source": [
        "### Bottleneck feature extractor **[100,50,100]** test accuracy=95.83%"
      ]
    },
    {
      "cell_type": "code",
      "execution_count": null,
      "metadata": {
        "id": "CQGHXwHrgSSA"
      },
      "outputs": [],
      "source": [
        "mnist_loader = MNIST('/content/drive/My Drive/Colab Notebooks/datasets/MNIST')\n",
        "train_data, train_label = mnist_loader.load_training()\n",
        "test_data, test_label = mnist_loader.load_testing()\n",
        "X_train = np.array(train_data, dtype='float')/255.0 # norm to [0,1]\n",
        "y_train = np.array(train_label, dtype='short')\n",
        "X_test = np.array(test_data, dtype='float')/255.0 # norm to [0,1]\n",
        "y_test = np.array(test_label, dtype='short')\n",
        "\n",
        "# convert MNIST training labels into 10-D one-hot vectors \n",
        "Y_train = np.zeros((y_train.size, y_train.max()+1))\n",
        "Y_train[np.arange(y_train.size),y_train] = 1"
      ]
    },
    {
      "cell_type": "code",
      "execution_count": null,
      "metadata": {
        "colab": {
          "base_uri": "https://localhost:8080/",
          "height": 520
        },
        "id": "I-Dny0hJgSSA",
        "outputId": "483c5ee0-98ab-4cce-feca-573de6ddd8b5"
      },
      "outputs": [
        {
          "name": "stdout",
          "output_type": "stream",
          "text": [
            "epoch = 0 (lr=0.001): C = 0.57232  A = 84.11%\n",
            "epoch = 1 (lr=0.0009): C = 0.38730  A = 89.17%\n",
            "epoch = 2 (lr=0.00081): C = 0.33136  A = 90.61%\n",
            "epoch = 3 (lr=0.00073): C = 0.29979  A = 91.40%\n",
            "epoch = 4 (lr=0.00066): C = 0.27772  A = 92.00%\n",
            "epoch = 5 (lr=0.00059): C = 0.26207  A = 92.43%\n",
            "epoch = 6 (lr=0.00053): C = 0.25161  A = 92.73%\n",
            "epoch = 7 (lr=0.00048): C = 0.24078  A = 93.07%\n",
            "epoch = 8 (lr=0.00043): C = 0.23151  A = 93.36%\n",
            "epoch = 9 (lr=0.00039): C = 0.22406  A = 93.58%\n",
            "epoch = 10 (lr=0.00035): C = 0.21937  A = 93.74%\n",
            "epoch = 11 (lr=0.00031): C = 0.21406  A = 93.88%\n",
            "test accuracy = 93.76%\n"
          ]
        },
        {
          "data": {
            "image/png": "[encoded data removed]",
            "text/plain": [
              "<Figure size 432x288 with 2 Axes>"
            ]
          },
          "metadata": {},
          "output_type": "display_data"
        }
      ],
      "source": [
        "import matplotlib.pyplot as plt\n",
        "\n",
        "mlp = myMLP2(struct=[100,50,100], debug=1, max_epochs=12, annealing=0.9, batch_size=10, lr=0.001)\n",
        "\n",
        "A, C = mlp.fit(X_train, Y_train) \n",
        "\n",
        "result = mlp.predict(X_test)\n",
        "test_acc =  100.0*jnp.count_nonzero(jnp.equal(result, y_test))/y_test.size\n",
        "print(f'test accuracy = {test_acc:.2f}%')\n",
        "\n",
        "fig, ax = plt.subplots(2)\n",
        "fig.suptitle('monitoring three learning curves (A, C)')\n",
        "ax[0].plot(C, 'b')\n",
        "_=ax[0].legend(['curve C'])\n",
        "\n",
        "ax[1].plot(A, 'r')\n",
        "_=ax[1].legend(['curve A'])"
      ]
    },
    {
      "cell_type": "code",
      "execution_count": null,
      "metadata": {
        "id": "Ou320QVxgSSA"
      },
      "outputs": [],
      "source": [
        "#prepare dataset with extracted features\n",
        "\n",
        "train_data, train_label = mnist_loader.load_training()\n",
        "test_data, test_label = mnist_loader.load_testing()\n",
        "train_data = np.array(train_data, dtype='float')/255 # norm to [0,1]\n",
        "train_data = mlp.predict_code(train_data)/255.0\n",
        "train_label = np.array(train_label, dtype='short')\n",
        "test_data = np.array(test_data, dtype='float')/255 # norm to [0,1]\n",
        "test_data = mlp.predict_code(test_data)/255.0\n",
        "test_label = np.array(test_label, dtype='short')"
      ]
    },
    {
      "cell_type": "code",
      "execution_count": null,
      "metadata": {
        "id": "7iu6SgBPgSSA"
      },
      "outputs": [],
      "source": [
        "# prepare digits '7' and '9' for binary SVMs\n",
        "\n",
        "digit_train_index = np.logical_or(train_label == 7, train_label == 9)\n",
        "X_train = train_data[digit_train_index]\n",
        "y_train = train_label[digit_train_index]\n",
        "digit_test_index = np.logical_or(test_label == 7, test_label == 9)\n",
        "X_test = test_data[digit_test_index]\n",
        "y_test = test_label[digit_test_index]\n",
        "\n",
        "# normalize all feature vectors to unit-length\n",
        "X_train = np.transpose (X_train.T / np.sqrt(np.sum(X_train*X_train, axis=1)))\n",
        "X_test =  np.transpose (X_test.T  / np.sqrt(np.sum(X_test*X_test, axis=1)))\n",
        "\n",
        "# convert labels: '7' => -1, '9' => +1\n",
        "CUTOFF = 8 # any number between '7' and '9'\n",
        "y_train = np.sign(y_train-CUTOFF)\n",
        "y_test = np.sign(y_test-CUTOFF)"
      ]
    },
    {
      "cell_type": "code",
      "execution_count": null,
      "metadata": {
        "colab": {
          "base_uri": "https://localhost:8080/"
        },
        "id": "pqt7YgmsgSSA",
        "outputId": "e469e7fd-8325-49c8-fd36-4d8bea93e889"
      },
      "outputs": [
        {
          "name": "stdout",
          "output_type": "stream",
          "text": [
            "MY RBF SVM (C=2, gamma=9): training accuracy=95.69%  test accuracy=95.83%\n"
          ]
        }
      ],
      "source": [
        "c = 2\n",
        "g = 9\n",
        "\n",
        "svm = mySVM(max_epochs=20, optimizer='smo', C=c, kernel='rbf', gamma=g, debug=0, I=7, J=9)\n",
        "svm.fit(X_train,y_train)\n",
        "\n",
        "predict = svm.predict(X_train)\n",
        "train_acc = np.count_nonzero(np.equal(predict,y_train))/y_train.size\n",
        "predict = svm.predict(X_test)\n",
        "test_acc = np.count_nonzero(np.equal(predict,y_test))/y_test.size\n",
        "print(f'MY RBF SVM (C={c}, gamma={g}): training accuracy={100*train_acc:.2f}%  test accuracy={100*test_acc:.2f}%')"
      ]
    },
    {
      "cell_type": "markdown",
      "metadata": {
        "id": "eBJtKtIfgqFN"
      },
      "source": [
        "### Bottleneck feature extractor **[150,100,50,100,150]** test accuracy=96.47%"
      ]
    },
    {
      "cell_type": "code",
      "execution_count": null,
      "metadata": {
        "id": "e2g5yYCYg8TY"
      },
      "outputs": [],
      "source": [
        "mnist_loader = MNIST('/content/drive/My Drive/Colab Notebooks/datasets/MNIST')\n",
        "train_data, train_label = mnist_loader.load_training()\n",
        "test_data, test_label = mnist_loader.load_testing()\n",
        "X_train = np.array(train_data, dtype='float')/255.0 # norm to [0,1]\n",
        "y_train = np.array(train_label, dtype='short')\n",
        "X_test = np.array(test_data, dtype='float')/255.0 # norm to [0,1]\n",
        "y_test = np.array(test_label, dtype='short')\n",
        "\n",
        "# convert MNIST training labels into 10-D one-hot vectors \n",
        "Y_train = np.zeros((y_train.size, y_train.max()+1))\n",
        "Y_train[np.arange(y_train.size),y_train] = 1"
      ]
    },
    {
      "cell_type": "code",
      "execution_count": null,
      "metadata": {
        "colab": {
          "base_uri": "https://localhost:8080/",
          "height": 520
        },
        "id": "02c4Ks8qg8TY",
        "outputId": "21d84267-cec3-44c4-9da0-d1bb22297409"
      },
      "outputs": [
        {
          "name": "stdout",
          "output_type": "stream",
          "text": [
            "epoch = 0 (lr=0.001): C = 0.58324  A = 83.42%\n",
            "epoch = 1 (lr=0.0009): C = 0.37620  A = 89.12%\n",
            "epoch = 2 (lr=0.00081): C = 0.30991  A = 91.15%\n",
            "epoch = 3 (lr=0.00073): C = 0.27693  A = 91.96%\n",
            "epoch = 4 (lr=0.00066): C = 0.24462  A = 92.95%\n",
            "epoch = 5 (lr=0.00059): C = 0.22574  A = 93.44%\n",
            "epoch = 6 (lr=0.00053): C = 0.20489  A = 94.08%\n",
            "epoch = 7 (lr=0.00048): C = 0.19234  A = 94.39%\n",
            "epoch = 8 (lr=0.00043): C = 0.18195  A = 94.77%\n",
            "epoch = 9 (lr=0.00039): C = 0.17183  A = 95.00%\n",
            "epoch = 10 (lr=0.00035): C = 0.16618  A = 95.19%\n",
            "epoch = 11 (lr=0.00031): C = 0.16285  A = 95.23%\n",
            "test accuracy = 94.99%\n"
          ]
        },
        {
          "data": {
            "image/png": "[encoded data removed]",
            "text/plain": [
              "<Figure size 432x288 with 2 Axes>"
            ]
          },
          "metadata": {},
          "output_type": "display_data"
        }
      ],
      "source": [
        "import matplotlib.pyplot as plt\n",
        "\n",
        "mlp = myMLP2(struct=[150,100,50,100,150], debug=1, max_epochs=12, annealing=0.9, batch_size=10, lr=0.001)\n",
        "\n",
        "A, C = mlp.fit(X_train, Y_train) \n",
        "\n",
        "result = mlp.predict(X_test)\n",
        "test_acc =  100.0*jnp.count_nonzero(jnp.equal(result, y_test))/y_test.size\n",
        "print(f'test accuracy = {test_acc:.2f}%')\n",
        "\n",
        "fig, ax = plt.subplots(2)\n",
        "fig.suptitle('monitoring three learning curves (A, C)')\n",
        "ax[0].plot(C, 'b')\n",
        "_=ax[0].legend(['curve C'])\n",
        "\n",
        "ax[1].plot(A, 'r')\n",
        "_=ax[1].legend(['curve A'])"
      ]
    },
    {
      "cell_type": "code",
      "execution_count": null,
      "metadata": {
        "id": "st6m6GS3g8TZ"
      },
      "outputs": [],
      "source": [
        "#prepare dataset with extracted features\n",
        "\n",
        "train_data, train_label = mnist_loader.load_training()\n",
        "test_data, test_label = mnist_loader.load_testing()\n",
        "train_data = np.array(train_data, dtype='float')/255 # norm to [0,1]\n",
        "train_data = mlp.predict_code(train_data)/255.0\n",
        "train_label = np.array(train_label, dtype='short')\n",
        "test_data = np.array(test_data, dtype='float')/255 # norm to [0,1]\n",
        "test_data = mlp.predict_code(test_data)/255.0\n",
        "test_label = np.array(test_label, dtype='short')"
      ]
    },
    {
      "cell_type": "code",
      "execution_count": null,
      "metadata": {
        "id": "0V7fOgdJg8TZ"
      },
      "outputs": [],
      "source": [
        "# prepare digits '7' and '9' for binary SVMs\n",
        "\n",
        "digit_train_index = np.logical_or(train_label == 7, train_label == 9)\n",
        "X_train = train_data[digit_train_index]\n",
        "y_train = train_label[digit_train_index]\n",
        "digit_test_index = np.logical_or(test_label == 7, test_label == 9)\n",
        "X_test = test_data[digit_test_index]\n",
        "y_test = test_label[digit_test_index]\n",
        "\n",
        "# normalize all feature vectors to unit-length\n",
        "X_train = np.transpose (X_train.T / np.sqrt(np.sum(X_train*X_train, axis=1)))\n",
        "X_test =  np.transpose (X_test.T  / np.sqrt(np.sum(X_test*X_test, axis=1)))\n",
        "\n",
        "# convert labels: '7' => -1, '9' => +1\n",
        "CUTOFF = 8 # any number between '7' and '9'\n",
        "y_train = np.sign(y_train-CUTOFF)\n",
        "y_test = np.sign(y_test-CUTOFF)"
      ]
    },
    {
      "cell_type": "code",
      "execution_count": null,
      "metadata": {
        "colab": {
          "base_uri": "https://localhost:8080/"
        },
        "id": "gHpMl6oRg8TZ",
        "outputId": "af4c5899-1afd-4a2b-acd7-edc4d6961a17"
      },
      "outputs": [
        {
          "name": "stdout",
          "output_type": "stream",
          "text": [
            "MY RBF SVM (C=2, gamma=9): training accuracy=96.14%  test accuracy=96.47%\n"
          ]
        }
      ],
      "source": [
        "c = 2\n",
        "g = 9\n",
        "\n",
        "svm = mySVM(max_epochs=20, optimizer='smo', C=c, kernel='rbf', gamma=g, debug=0, I=7, J=9)\n",
        "svm.fit(X_train,y_train)\n",
        "\n",
        "predict = svm.predict(X_train)\n",
        "train_acc = np.count_nonzero(np.equal(predict,y_train))/y_train.size\n",
        "predict = svm.predict(X_test)\n",
        "test_acc = np.count_nonzero(np.equal(predict,y_test))/y_test.size\n",
        "print(f'MY RBF SVM (C={c}, gamma={g}): training accuracy={100*train_acc:.2f}%  test accuracy={100*test_acc:.2f}%')"
      ]
    },
    {
      "cell_type": "markdown",
      "metadata": {
        "id": "7l4zzjFEg_-l"
      },
      "source": [
        "### Bottleneck feature extractor **[150,125,100,50,100,125,150]** test accuracy=96.56%"
      ]
    },
    {
      "cell_type": "code",
      "execution_count": null,
      "metadata": {
        "id": "B9a6EBnahGP6"
      },
      "outputs": [],
      "source": [
        "mnist_loader = MNIST('/content/drive/My Drive/Colab Notebooks/datasets/MNIST')\n",
        "train_data, train_label = mnist_loader.load_training()\n",
        "test_data, test_label = mnist_loader.load_testing()\n",
        "X_train = np.array(train_data, dtype='float')/255.0 # norm to [0,1]\n",
        "y_train = np.array(train_label, dtype='short')\n",
        "X_test = np.array(test_data, dtype='float')/255.0 # norm to [0,1]\n",
        "y_test = np.array(test_label, dtype='short')\n",
        "\n",
        "# convert MNIST training labels into 10-D one-hot vectors \n",
        "Y_train = np.zeros((y_train.size, y_train.max()+1))\n",
        "Y_train[np.arange(y_train.size),y_train] = 1"
      ]
    },
    {
      "cell_type": "code",
      "execution_count": null,
      "metadata": {
        "colab": {
          "base_uri": "https://localhost:8080/",
          "height": 520
        },
        "id": "bg3VWZxvhGP6",
        "outputId": "c32e2e9b-8dc8-453a-f917-8b3eb5326421"
      },
      "outputs": [
        {
          "name": "stdout",
          "output_type": "stream",
          "text": [
            "epoch = 0 (lr=0.001): C = 1.15462  A = 66.44%\n",
            "epoch = 1 (lr=0.0009): C = 0.41411  A = 87.62%\n",
            "epoch = 2 (lr=0.00081): C = 0.30506  A = 90.96%\n",
            "epoch = 3 (lr=0.00073): C = 0.25882  A = 92.18%\n",
            "epoch = 4 (lr=0.00066): C = 0.22048  A = 93.61%\n",
            "epoch = 5 (lr=0.00059): C = 0.20429  A = 93.97%\n",
            "epoch = 6 (lr=0.00053): C = 0.18888  A = 94.40%\n",
            "epoch = 7 (lr=0.00048): C = 0.17713  A = 94.83%\n",
            "epoch = 8 (lr=0.00043): C = 0.16277  A = 95.31%\n",
            "epoch = 9 (lr=0.00039): C = 0.15621  A = 95.52%\n",
            "epoch = 10 (lr=0.00035): C = 0.14767  A = 95.70%\n",
            "epoch = 11 (lr=0.00031): C = 0.13961  A = 95.94%\n",
            "test accuracy = 95.37%\n"
          ]
        },
        {
          "data": {
            "image/png": "[encoded data removed]",
            "text/plain": [
              "<Figure size 432x288 with 2 Axes>"
            ]
          },
          "metadata": {},
          "output_type": "display_data"
        }
      ],
      "source": [
        "import matplotlib.pyplot as plt\n",
        "\n",
        "mlp = myMLP2(struct=[150,125,100,50,100,125,150], debug=1, max_epochs=12, annealing=0.9, batch_size=10, lr=0.001)\n",
        "\n",
        "A, C = mlp.fit(X_train, Y_train) \n",
        "\n",
        "result = mlp.predict(X_test)\n",
        "test_acc =  100.0*jnp.count_nonzero(jnp.equal(result, y_test))/y_test.size\n",
        "print(f'test accuracy = {test_acc:.2f}%')\n",
        "\n",
        "fig, ax = plt.subplots(2)\n",
        "fig.suptitle('monitoring three learning curves (A, C)')\n",
        "ax[0].plot(C, 'b')\n",
        "_=ax[0].legend(['curve C'])\n",
        "\n",
        "ax[1].plot(A, 'r')\n",
        "_=ax[1].legend(['curve A'])"
      ]
    },
    {
      "cell_type": "code",
      "execution_count": null,
      "metadata": {
        "id": "C5pDDwZ2hGP7"
      },
      "outputs": [],
      "source": [
        "#prepare dataset with extracted features\n",
        "\n",
        "train_data, train_label = mnist_loader.load_training()\n",
        "test_data, test_label = mnist_loader.load_testing()\n",
        "train_data = np.array(train_data, dtype='float')/255 # norm to [0,1]\n",
        "train_data = mlp.predict_code(train_data)/255.0\n",
        "train_label = np.array(train_label, dtype='short')\n",
        "test_data = np.array(test_data, dtype='float')/255 # norm to [0,1]\n",
        "test_data = mlp.predict_code(test_data)/255.0\n",
        "test_label = np.array(test_label, dtype='short')"
      ]
    },
    {
      "cell_type": "code",
      "execution_count": null,
      "metadata": {
        "id": "U1jsjg0BhGP7"
      },
      "outputs": [],
      "source": [
        "# prepare digits '7' and '9' for binary SVMs\n",
        "\n",
        "digit_train_index = np.logical_or(train_label == 7, train_label == 9)\n",
        "X_train = train_data[digit_train_index]\n",
        "y_train = train_label[digit_train_index]\n",
        "digit_test_index = np.logical_or(test_label == 7, test_label == 9)\n",
        "X_test = test_data[digit_test_index]\n",
        "y_test = test_label[digit_test_index]\n",
        "\n",
        "# normalize all feature vectors to unit-length\n",
        "X_train = np.transpose (X_train.T / np.sqrt(np.sum(X_train*X_train, axis=1)))\n",
        "X_test =  np.transpose (X_test.T  / np.sqrt(np.sum(X_test*X_test, axis=1)))\n",
        "\n",
        "# convert labels: '7' => -1, '9' => +1\n",
        "CUTOFF = 8 # any number between '7' and '9'\n",
        "y_train = np.sign(y_train-CUTOFF)\n",
        "y_test = np.sign(y_test-CUTOFF)"
      ]
    },
    {
      "cell_type": "code",
      "execution_count": null,
      "metadata": {
        "colab": {
          "base_uri": "https://localhost:8080/"
        },
        "id": "lgmdJn5jhGP7",
        "outputId": "87aaabd2-514a-4c57-a401-7b3fba1c7510"
      },
      "outputs": [
        {
          "name": "stdout",
          "output_type": "stream",
          "text": [
            "MY RBF SVM (C=2, gamma=9): training accuracy=96.49%  test accuracy=96.56%\n"
          ]
        }
      ],
      "source": [
        "c = 2\n",
        "g = 9\n",
        "\n",
        "svm = mySVM(max_epochs=20, optimizer='smo', C=c, kernel='rbf', gamma=g, debug=0, I=7, J=9)\n",
        "svm.fit(X_train,y_train)\n",
        "\n",
        "predict = svm.predict(X_train)\n",
        "train_acc = np.count_nonzero(np.equal(predict,y_train))/y_train.size\n",
        "predict = svm.predict(X_test)\n",
        "test_acc = np.count_nonzero(np.equal(predict,y_test))/y_test.size\n",
        "print(f'MY RBF SVM (C={c}, gamma={g}): training accuracy={100*train_acc:.2f}%  test accuracy={100*test_acc:.2f}%')"
      ]
    },
    {
      "cell_type": "markdown",
      "metadata": {
        "id": "YuHf_2aWB_6x"
      },
      "source": [
        "### Bottleneck feature extractor **[150,100,75,50,20,50,75,100,150]** test accuracy=97.79% lr=0.01 (7 vs. 9)"
      ]
    },
    {
      "cell_type": "code",
      "execution_count": null,
      "metadata": {
        "id": "cCleHCAXCGOj"
      },
      "outputs": [],
      "source": [
        "mnist_loader = MNIST('/content/drive/My Drive/Colab Notebooks/datasets/MNIST')\n",
        "train_data, train_label = mnist_loader.load_training()\n",
        "test_data, test_label = mnist_loader.load_testing()\n",
        "X_train = np.array(train_data, dtype='float')/255.0 # norm to [0,1]\n",
        "y_train = np.array(train_label, dtype='short')\n",
        "X_test = np.array(test_data, dtype='float')/255.0 # norm to [0,1]\n",
        "y_test = np.array(test_label, dtype='short')\n",
        "\n",
        "# convert MNIST training labels into 10-D one-hot vectors \n",
        "Y_train = np.zeros((y_train.size, y_train.max()+1))\n",
        "Y_train[np.arange(y_train.size),y_train] = 1"
      ]
    },
    {
      "cell_type": "code",
      "execution_count": null,
      "metadata": {
        "colab": {
          "background_save": true,
          "base_uri": "https://localhost:8080/"
        },
        "id": "RE2Tyo_8CGOj",
        "outputId": "a15a99bf-a053-4c49-e649-dd339060624e"
      },
      "outputs": [
        {
          "name": "stdout",
          "output_type": "stream",
          "text": [
            "epoch = 0 (lr=0.01): C = 0.18783  A = 94.79%\n",
            "epoch = 1 (lr=0.009): C = 0.11786  A = 96.63%\n",
            "epoch = 2 (lr=0.0081): C = 0.11139  A = 96.66%\n",
            "epoch = 3 (lr=0.0073): C = 0.09872  A = 97.15%\n",
            "epoch = 4 (lr=0.0066): C = 0.05103  A = 98.52%\n",
            "epoch = 5 (lr=0.0059): C = 0.04428  A = 98.74%\n",
            "epoch = 6 (lr=0.0053): C = 0.03771  A = 98.92%\n",
            "epoch = 7 (lr=0.0048): C = 0.02371  A = 99.33%\n",
            "epoch = 8 (lr=0.0043): C = 0.01856  A = 99.52%\n",
            "epoch = 9 (lr=0.0039): C = 0.01672  A = 99.54%\n",
            "epoch = 10 (lr=0.0035): C = 0.01084  A = 99.74%\n",
            "epoch = 11 (lr=0.0031): C = 0.00845  A = 99.80%\n",
            "test accuracy = 97.49%\n"
          ]
        },
        {
          "data": {
            "image/png": "[encoded data removed]",
            "text/plain": [
              "<Figure size 432x288 with 2 Axes>"
            ]
          },
          "metadata": {},
          "output_type": "display_data"
        }
      ],
      "source": [
        "import matplotlib.pyplot as plt\n",
        "\n",
        "mlp = myMLP2(struct=[150,100,75,50,20,50,75,100,150], debug=1, max_epochs=12, annealing=0.9, batch_size=10, lr=0.01)\n",
        "\n",
        "A, C = mlp.fit(X_train, Y_train) \n",
        "\n",
        "result = mlp.predict(X_test)\n",
        "test_acc =  100.0*jnp.count_nonzero(jnp.equal(result, y_test))/y_test.size\n",
        "print(f'test accuracy = {test_acc:.2f}%')\n",
        "\n",
        "fig, ax = plt.subplots(2)\n",
        "fig.suptitle('monitoring three learning curves (A, C)')\n",
        "ax[0].plot(C, 'b')\n",
        "_=ax[0].legend(['curve C'])\n",
        "\n",
        "ax[1].plot(A, 'r')\n",
        "_=ax[1].legend(['curve A'])"
      ]
    },
    {
      "cell_type": "code",
      "execution_count": null,
      "metadata": {
        "colab": {
          "background_save": true
        },
        "id": "Cxr45KSECGOj"
      },
      "outputs": [],
      "source": [
        "#prepare dataset with extracted features\n",
        "\n",
        "train_data, train_label = mnist_loader.load_training()\n",
        "test_data, test_label = mnist_loader.load_testing()\n",
        "train_data = np.array(train_data, dtype='float')/255 # norm to [0,1]\n",
        "train_data = mlp.predict_code(train_data)/255.0\n",
        "train_label = np.array(train_label, dtype='short')\n",
        "test_data = np.array(test_data, dtype='float')/255 # norm to [0,1]\n",
        "test_data = mlp.predict_code(test_data)/255.0\n",
        "test_label = np.array(test_label, dtype='short')"
      ]
    },
    {
      "cell_type": "code",
      "execution_count": null,
      "metadata": {
        "colab": {
          "background_save": true
        },
        "id": "afbbIV06CGOk"
      },
      "outputs": [],
      "source": [
        "# prepare digits '7' and '9' for binary SVMs\n",
        "\n",
        "digit_train_index = np.logical_or(train_label == 7, train_label == 9)\n",
        "X_train = train_data[digit_train_index]\n",
        "y_train = train_label[digit_train_index]\n",
        "digit_test_index = np.logical_or(test_label == 7, test_label == 9)\n",
        "X_test = test_data[digit_test_index]\n",
        "y_test = test_label[digit_test_index]\n",
        "\n",
        "# normalize all feature vectors to unit-length\n",
        "X_train = np.transpose (X_train.T / np.sqrt(np.sum(X_train*X_train, axis=1)))\n",
        "X_test =  np.transpose (X_test.T  / np.sqrt(np.sum(X_test*X_test, axis=1)))\n",
        "\n",
        "# convert labels: '7' => -1, '9' => +1\n",
        "CUTOFF = 8 # any number between '7' and '9'\n",
        "y_train = np.sign(y_train-CUTOFF)\n",
        "y_test = np.sign(y_test-CUTOFF)"
      ]
    },
    {
      "cell_type": "code",
      "execution_count": null,
      "metadata": {
        "colab": {
          "background_save": true
        },
        "id": "3mImOjzxCGOk",
        "outputId": "d02668c3-caec-4a87-deb6-2248efb1c85e"
      },
      "outputs": [
        {
          "name": "stdout",
          "output_type": "stream",
          "text": [
            "MY RBF SVM (C=2, gamma=9): training accuracy=98.66%  test accuracy=97.79%\n"
          ]
        }
      ],
      "source": [
        "c = 2\n",
        "g = 9\n",
        "\n",
        "svm = mySVM(max_epochs=20, optimizer='smo', C=c, kernel='rbf', gamma=g, debug=0, I=7, J=9)\n",
        "svm.fit(X_train,y_train)\n",
        "\n",
        "predict = svm.predict(X_train)\n",
        "train_acc = np.count_nonzero(np.equal(predict,y_train))/y_train.size\n",
        "predict = svm.predict(X_test)\n",
        "test_acc = np.count_nonzero(np.equal(predict,y_test))/y_test.size\n",
        "print(f'MY RBF SVM (C={c}, gamma={g}): training accuracy={100*train_acc:.2f}%  test accuracy={100*test_acc:.2f}%')"
      ]
    },
    {
      "cell_type": "markdown",
      "source": [
        "### Bottleneck feature extractor **[150,100,75,50,20,50,75,100,150]** test accuracy=99.33% lr=0.01 (0 vs. 8)"
      ],
      "metadata": {
        "id": "c7gLf09OqjtE"
      }
    },
    {
      "cell_type": "code",
      "execution_count": null,
      "metadata": {
        "id": "9m1Rosl3qx-P"
      },
      "outputs": [],
      "source": [
        "mnist_loader = MNIST('/content/drive/My Drive/Colab Notebooks/datasets/MNIST')\n",
        "train_data, train_label = mnist_loader.load_training()\n",
        "test_data, test_label = mnist_loader.load_testing()\n",
        "X_train = np.array(train_data, dtype='float')/255.0 # norm to [0,1]\n",
        "y_train = np.array(train_label, dtype='short')\n",
        "X_test = np.array(test_data, dtype='float')/255.0 # norm to [0,1]\n",
        "y_test = np.array(test_label, dtype='short')\n",
        "\n",
        "# convert MNIST training labels into 10-D one-hot vectors \n",
        "Y_train = np.zeros((y_train.size, y_train.max()+1))\n",
        "Y_train[np.arange(y_train.size),y_train] = 1"
      ]
    },
    {
      "cell_type": "code",
      "execution_count": null,
      "metadata": {
        "colab": {
          "base_uri": "https://localhost:8080/",
          "height": 520
        },
        "outputId": "fc1045e9-7941-40b8-bb98-72ea961f4946",
        "id": "T1bdo6zwqx-P"
      },
      "outputs": [
        {
          "output_type": "stream",
          "name": "stdout",
          "text": [
            "epoch = 0 (lr=0.01): C = 0.18783  A = 94.79%\n",
            "epoch = 1 (lr=0.009): C = 0.11786  A = 96.63%\n",
            "epoch = 2 (lr=0.0081): C = 0.11139  A = 96.66%\n",
            "epoch = 3 (lr=0.0073): C = 0.09872  A = 97.15%\n",
            "epoch = 4 (lr=0.0066): C = 0.05103  A = 98.52%\n",
            "epoch = 5 (lr=0.0059): C = 0.04428  A = 98.74%\n",
            "epoch = 6 (lr=0.0053): C = 0.03771  A = 98.92%\n",
            "epoch = 7 (lr=0.0048): C = 0.02371  A = 99.33%\n",
            "epoch = 8 (lr=0.0043): C = 0.01856  A = 99.52%\n",
            "epoch = 9 (lr=0.0039): C = 0.01672  A = 99.54%\n",
            "epoch = 10 (lr=0.0035): C = 0.01084  A = 99.74%\n",
            "epoch = 11 (lr=0.0031): C = 0.00845  A = 99.80%\n",
            "test accuracy = 97.49%\n"
          ]
        },
        {
          "output_type": "display_data",
          "data": {
            "text/plain": [
              "<Figure size 432x288 with 2 Axes>"
            ],
            "image/png": "[encoded data removed]"
          },
          "metadata": {
            "needs_background": "light"
          }
        }
      ],
      "source": [
        "import matplotlib.pyplot as plt\n",
        "\n",
        "mlp = myMLP2(struct=[150,100,75,50,20,50,75,100,150], debug=1, max_epochs=12, annealing=0.9, batch_size=10, lr=0.01)\n",
        "\n",
        "A, C = mlp.fit(X_train, Y_train) \n",
        "\n",
        "result = mlp.predict(X_test)\n",
        "test_acc =  100.0*jnp.count_nonzero(jnp.equal(result, y_test))/y_test.size\n",
        "print(f'test accuracy = {test_acc:.2f}%')\n",
        "\n",
        "fig, ax = plt.subplots(2)\n",
        "fig.suptitle('monitoring three learning curves (A, C)')\n",
        "ax[0].plot(C, 'b')\n",
        "_=ax[0].legend(['curve C'])\n",
        "\n",
        "ax[1].plot(A, 'r')\n",
        "_=ax[1].legend(['curve A'])"
      ]
    },
    {
      "cell_type": "code",
      "execution_count": null,
      "metadata": {
        "id": "Oov05HXJqx-Q"
      },
      "outputs": [],
      "source": [
        "#prepare dataset with extracted features\n",
        "\n",
        "train_data, train_label = mnist_loader.load_training()\n",
        "test_data, test_label = mnist_loader.load_testing()\n",
        "train_data = np.array(train_data, dtype='float')/255 # norm to [0,1]\n",
        "train_data = mlp.predict_code(train_data)/255.0\n",
        "train_label = np.array(train_label, dtype='short')\n",
        "test_data = np.array(test_data, dtype='float')/255 # norm to [0,1]\n",
        "test_data = mlp.predict_code(test_data)/255.0\n",
        "test_label = np.array(test_label, dtype='short')"
      ]
    },
    {
      "cell_type": "code",
      "execution_count": null,
      "metadata": {
        "id": "2OFqTXjCqx-Q"
      },
      "outputs": [],
      "source": [
        "# prepare digits '0' and '8' for binary SVMs\n",
        "\n",
        "digit_train_index = np.logical_or(train_label == 0, train_label == 8)\n",
        "X_train = train_data[digit_train_index]\n",
        "y_train = train_label[digit_train_index]\n",
        "digit_test_index = np.logical_or(test_label == 0, test_label == 8)\n",
        "X_test = test_data[digit_test_index]\n",
        "y_test = test_label[digit_test_index]\n",
        "\n",
        "# normalize all feature vectors to unit-length\n",
        "X_train = np.transpose (X_train.T / np.sqrt(np.sum(X_train*X_train, axis=1)))\n",
        "X_test =  np.transpose (X_test.T  / np.sqrt(np.sum(X_test*X_test, axis=1)))\n",
        "\n",
        "# convert labels: '0' => -1, '8' => +1\n",
        "CUTOFF = 4 # any number between '0' and '8'\n",
        "y_train = np.sign(y_train-CUTOFF)\n",
        "y_test = np.sign(y_test-CUTOFF)"
      ]
    },
    {
      "cell_type": "code",
      "execution_count": null,
      "metadata": {
        "colab": {
          "base_uri": "https://localhost:8080/"
        },
        "outputId": "b0397399-97a7-409b-d7be-257ef2964f35",
        "id": "ph899VXbqx-Q"
      },
      "outputs": [
        {
          "output_type": "stream",
          "name": "stdout",
          "text": [
            "MY RBF SVM (C=2, gamma=9): training accuracy=99.69%  test accuracy=99.33%\n"
          ]
        }
      ],
      "source": [
        "c = 2\n",
        "g = 9\n",
        "\n",
        "svm = mySVM(max_epochs=20, optimizer='smo', C=c, kernel='rbf', gamma=g, debug=0, I=7, J=9)\n",
        "svm.fit(X_train,y_train)\n",
        "\n",
        "predict = svm.predict(X_train)\n",
        "train_acc = np.count_nonzero(np.equal(predict,y_train))/y_train.size\n",
        "predict = svm.predict(X_test)\n",
        "test_acc = np.count_nonzero(np.equal(predict,y_test))/y_test.size\n",
        "print(f'MY RBF SVM (C={c}, gamma={g}): training accuracy={100*train_acc:.2f}%  test accuracy={100*test_acc:.2f}%')"
      ]
    },
    {
      "cell_type": "code",
      "source": [],
      "metadata": {
        "id": "KjaJPr1drKlk"
      },
      "execution_count": null,
      "outputs": []
    }
  ],
  "metadata": {
    "colab": {
      "collapsed_sections": [
        "COLrdMY45MgS"
      ],
      "provenance": []
    },
    "kernelspec": {
      "display_name": "Python 3",
      "name": "python3"
    },
    "language_info": {
      "name": "python"
    }
  },
  "nbformat": 4,
  "nbformat_minor": 0
}
